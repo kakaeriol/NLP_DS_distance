{
 "cells": [
  {
   "cell_type": "code",
   "execution_count": 102,
   "id": "4cdfe6fa-409c-48be-9007-abe59d0cd2a5",
   "metadata": {
    "tags": []
   },
   "outputs": [],
   "source": []
  },
  {
   "cell_type": "code",
   "execution_count": 80,
   "id": "b8b739a7-2341-4f4d-a397-cdf0f977a24a",
   "metadata": {},
   "outputs": [],
   "source": [
    "conf = {}\n",
    "conf[\"raw_MELD_path\"] = \"/home/n/nguyenpk/CS6208/GNN_ERC/data/MELD.Raw\"\n",
    "conf[\"raw_Daily_Dailog_path\"] = \"/home/n/nguyenpk/CS6208/GNN_ERC/data/Dialog\" \n",
    "conf[\"raw_IEMOCAP_path\"] = \"/home/n/nguyenpk/IEMOCAP_full_release\"\n",
    "conf[\"pickle_IEMOCAP_path\"] = \"/home/n/nguyenpk/CS6208/GNN_ERC/data/IEMOCAP_features.pkl\"\n",
    "conf[\"glove_path\"] = \"/home/n/nguyenpk/CS6220/data/glove.840B.300d.txt\"\n",
    "\n",
    "##\n",
    "\n",
    "# conf[\"glove_path\"] = "
   ]
  },
  {
   "cell_type": "code",
   "execution_count": 81,
   "id": "1e902d31-4f9b-4f1a-9ec9-94edc998fb18",
   "metadata": {},
   "outputs": [],
   "source": [
    "# meld_tool = MELD_preprocessing()\n",
    "# meld_raw = meld_tool.raw_MELD_DS_segment(\"/home/n/nguyenpk/CS6208/GNN_ERC/data/MELD.Raw/\")"
   ]
  },
  {
   "cell_type": "code",
   "execution_count": 82,
   "id": "13ab4439-28d5-4530-8642-752f50cba2de",
   "metadata": {},
   "outputs": [],
   "source": [
    "# itool = IEMOCAP_preprocessing()\n",
    "# iemo_pkl = itool.create_IEMOCAP_from_pkl(conf[\"pickle_IEMOCAP_path\"])"
   ]
  },
  {
   "cell_type": "code",
   "execution_count": 83,
   "id": "60166c95-bb3f-4def-ab97-589e817b5098",
   "metadata": {},
   "outputs": [],
   "source": [
    "dd_tool = Daily_Dialog_preprocessing()\n",
    "Diaglog_raw = dd_tool.raw_DD_DS_segment(\"/home/n/nguyenpk/CS6208/GNN_ERC/data/Dialog\")"
   ]
  },
  {
   "cell_type": "code",
   "execution_count": 84,
   "id": "85524d53-9d60-4614-b68a-54badb045954",
   "metadata": {},
   "outputs": [
    {
     "ename": "NameError",
     "evalue": "name 'itool' is not defined",
     "output_type": "error",
     "traceback": [
      "\u001b[0;31m---------------------------------------------------------------------------\u001b[0m",
      "\u001b[0;31mNameError\u001b[0m                                 Traceback (most recent call last)",
      "Cell \u001b[0;32mIn[84], line 1\u001b[0m\n\u001b[0;32m----> 1\u001b[0m IEMO_raw \u001b[38;5;241m=\u001b[39m \u001b[43mitool\u001b[49m\u001b[38;5;241m.\u001b[39mcreate_dataset_from_IEMOCAP_base(\u001b[38;5;124m'\u001b[39m\u001b[38;5;124m/home/n/nguyenpk/IEMOCAP_full_release\u001b[39m\u001b[38;5;124m'\u001b[39m)\n",
      "\u001b[0;31mNameError\u001b[0m: name 'itool' is not defined"
     ]
    }
   ],
   "source": [
    "IEMO_raw = itool.create_dataset_from_IEMOCAP_base('/home/n/nguyenpk/IEMOCAP_full_release')"
   ]
  },
  {
   "cell_type": "code",
   "execution_count": 85,
   "id": "94107255-7d63-4423-97b7-8250e46fdbf9",
   "metadata": {},
   "outputs": [
    {
     "ename": "NameError",
     "evalue": "name 'meld_raw' is not defined",
     "output_type": "error",
     "traceback": [
      "\u001b[0;31m---------------------------------------------------------------------------\u001b[0m",
      "\u001b[0;31mNameError\u001b[0m                                 Traceback (most recent call last)",
      "Cell \u001b[0;32mIn[85], line 1\u001b[0m\n\u001b[0;32m----> 1\u001b[0m pd\u001b[38;5;241m.\u001b[39mto_pickle(\u001b[43mmeld_raw\u001b[49m, \u001b[38;5;124m'\u001b[39m\u001b[38;5;124mMELD_raw.pkl\u001b[39m\u001b[38;5;124m'\u001b[39m)\n\u001b[1;32m      2\u001b[0m pd\u001b[38;5;241m.\u001b[39mto_pickle(iemo_pkl, \u001b[38;5;124m'\u001b[39m\u001b[38;5;124mIEMOCAP_from_pkl.pkl\u001b[39m\u001b[38;5;124m'\u001b[39m)\n\u001b[1;32m      3\u001b[0m pd\u001b[38;5;241m.\u001b[39mto_pickle(Diaglog_raw, \u001b[38;5;124m'\u001b[39m\u001b[38;5;124mDiaglog_raw.pkl\u001b[39m\u001b[38;5;124m'\u001b[39m)\n",
      "\u001b[0;31mNameError\u001b[0m: name 'meld_raw' is not defined"
     ]
    }
   ],
   "source": [
    "pd.to_pickle(meld_raw, 'MELD_raw.pkl')\n",
    "pd.to_pickle(iemo_pkl, 'IEMOCAP_from_pkl.pkl')\n",
    "pd.to_pickle(Diaglog_raw, 'Diaglog_raw.pkl')\n",
    "pd.to_pickle(IEMO_raw, 'IEMOCAP_raw.pkl')"
   ]
  },
  {
   "cell_type": "code",
   "execution_count": 88,
   "id": "4f85f423-fc77-4c30-ae66-e9d8e7e4b182",
   "metadata": {},
   "outputs": [],
   "source": [
    "our_rawdata = pd.read_pickle('data/Diaglog_raw.pkl')\n",
    "train_data = our_rawdata['train']\n",
    "test_data  = our_rawdata['test']\n",
    "dev_data = our_rawdata['dev']"
   ]
  },
  {
   "cell_type": "code",
   "execution_count": 95,
   "id": "f9edbed4-8d98-44f5-b724-9457573ec83e",
   "metadata": {},
   "outputs": [
    {
     "data": {
      "text/plain": [
       "'/home/n/nguyenpk/CS6220/data/glove.840B.300d.txt'"
      ]
     },
     "execution_count": 95,
     "metadata": {},
     "output_type": "execute_result"
    }
   ],
   "source": [
    "conf[\"glove_path\"]"
   ]
  },
  {
   "cell_type": "code",
   "execution_count": 89,
   "id": "ce6b5f53-b7a6-47f7-97c5-ed26c8256c65",
   "metadata": {},
   "outputs": [
    {
     "data": {
      "text/plain": [
       "dict_keys(['conversation', 'speakers', 'emotions', 'actions', 'topics'])"
      ]
     },
     "execution_count": 89,
     "metadata": {},
     "output_type": "execute_result"
    }
   ],
   "source": [
    "glove_path"
   ]
  },
  {
   "cell_type": "code",
   "execution_count": 96,
   "id": "8e33c8df-ab13-4db1-9042-ab189b5607c6",
   "metadata": {},
   "outputs": [
    {
     "name": "stdout",
     "output_type": "stream",
     "text": [
      "glove.840B.300d.txt\t   glove.840B.300d.zip\n",
      "glove.840B.300d.txt.dict_  pre_processing_data\n"
     ]
    }
   ],
   "source": [
    "!ls /home/n/nguyenpk/CS6220/data/"
   ]
  },
  {
   "cell_type": "code",
   "execution_count": 106,
   "id": "d1a4ef33-989a-4d10-ad96-0a1fcea7bcc6",
   "metadata": {
    "tags": []
   },
   "outputs": [],
   "source": [
    "\n"
   ]
  },
  {
   "cell_type": "code",
   "execution_count": 107,
   "id": "a56ca2d4-0591-4ecd-83dc-297d82895083",
   "metadata": {
    "tags": []
   },
   "outputs": [
    {
     "name": "stdout",
     "output_type": "stream",
     "text": [
      "Loading GloVe model, this can take some time...\n"
     ]
    }
   ],
   "source": [
    "# Create token from training and dictionary embedding\n",
    "all_text = luterance\n",
    "tokenizer = Tokenizer()\n",
    "tokenizer.fit_on_texts(flatten_list(train_data['conversation'])) # need to store\n",
    "max_num_tokens = 250\n",
    "###\n",
    "glove_vector = load_pretrained_glove()\n",
    "word_vector_length = len(glove_vector['the'])\n",
    "word_index = tokenizer.word_index\n",
    "inv_word_index = {v: k for k, v in word_index.items()}\n",
    "num_unique_words = len(word_index)\n",
    "\n",
    "glv_embedding_matrix = np.zeros((num_unique_words + 1, word_vector_length))\n",
    "\n",
    "\n"
   ]
  },
  {
   "cell_type": "code",
   "execution_count": 108,
   "id": "0055367a-0b4c-40a8-b1fe-086608ed6cb4",
   "metadata": {},
   "outputs": [],
   "source": [
    "for j in range(1, num_unique_words + 1):\n",
    "    try:\n",
    "        glv_embedding_matrix[j] = glove_vector[inv_word_index[j]]\n",
    "    except KeyError:\n",
    "        glv_embedding_matrix[j] = np.random.randn(word_vector_length) / 200"
   ]
  },
  {
   "cell_type": "code",
   "execution_count": 65,
   "id": "e428a702-50ed-45f7-ba84-bb47dd85670c",
   "metadata": {},
   "outputs": [],
   "source": [
    "data = our_rawdata['train']\n",
    "\n",
    "\n",
    "\n"
   ]
  },
  {
   "cell_type": "code",
   "execution_count": 66,
   "id": "c5ebd52b-ff4e-4d13-8fbc-8268ab50589c",
   "metadata": {
    "tags": []
   },
   "outputs": [],
   "source": [
    "train_token = create_data_token(train_data, tokenizer)"
   ]
  },
  {
   "cell_type": "code",
   "execution_count": 137,
   "id": "73586198-4f41-4c22-9391-aa82f20b49d8",
   "metadata": {},
   "outputs": [],
   "source": [
    "\n",
    "    \n",
    "    "
   ]
  },
  {
   "cell_type": "code",
   "execution_count": 138,
   "id": "131bbe48-aee5-49f6-bc3e-9ddbcedcf684",
   "metadata": {},
   "outputs": [],
   "source": [
    "DD_preprocess = Preprocessing_Data_Token(\"Diaglog_raw.pkl\")"
   ]
  },
  {
   "cell_type": "code",
   "execution_count": 139,
   "id": "daa02873-b9e1-47ce-ab45-794a41002287",
   "metadata": {},
   "outputs": [
    {
     "name": "stdout",
     "output_type": "stream",
     "text": [
      "Loading GloVe model, this can take some time...\n"
     ]
    }
   ],
   "source": [
    "output = DD_preprocess.processing_token_data_segment()\n",
    "embedding = DD_preprocess.create_pretrain_embedding()"
   ]
  },
  {
   "cell_type": "code",
   "execution_count": 124,
   "id": "0716fe2f-3943-4555-bb0f-1fdc996caf6e",
   "metadata": {},
   "outputs": [
    {
     "name": "stdout",
     "output_type": "stream",
     "text": [
      "train dict_keys(['data_token', 'max_len', 'token_raw', 'conversation', 'speakers', 'emotions', 'actions', 'topics'])\n",
      "test dict_keys(['data_token', 'max_len', 'token_raw', 'conversation', 'speakers', 'emotions', 'actions', 'topics'])\n",
      "dev dict_keys(['data_token', 'max_len', 'token_raw', 'conversation', 'speakers', 'emotions', 'actions', 'topics'])\n"
     ]
    }
   ],
   "source": [
    "for i in ['train', 'test', 'dev']:\n",
    "    print(i, output[i].keys())\n",
    "    print( output[i][0])"
   ]
  },
  {
   "cell_type": "code",
   "execution_count": 132,
   "id": "2ea5ad58-7b33-4ce7-9b33-2f0979d2f32f",
   "metadata": {},
   "outputs": [
    {
     "data": {
      "text/plain": [
       "[]"
      ]
     },
     "execution_count": 132,
     "metadata": {},
     "output_type": "execute_result"
    }
   ],
   "source": [
    "output['test']['topics']"
   ]
  },
  {
   "cell_type": "code",
   "execution_count": 134,
   "id": "cd17f0a4-f5f1-41c9-8708-c9910cf58bc4",
   "metadata": {},
   "outputs": [
    {
     "data": {
      "text/plain": [
       "<keras.preprocessing.text.Tokenizer at 0x7f8cd33e7670>"
      ]
     },
     "execution_count": 134,
     "metadata": {},
     "output_type": "execute_result"
    }
   ],
   "source": [
    "DD_preprocess.tokenizer"
   ]
  },
  {
   "cell_type": "code",
   "execution_count": null,
   "id": "9e20749a-19a2-48f4-83af-fca1fc96f134",
   "metadata": {},
   "outputs": [],
   "source": []
  }
 ],
 "metadata": {
  "kernelspec": {
   "display_name": "tf-gpu",
   "language": "python",
   "name": "tf-gpu"
  },
  "language_info": {
   "codemirror_mode": {
    "name": "ipython",
    "version": 3
   },
   "file_extension": ".py",
   "mimetype": "text/x-python",
   "name": "python",
   "nbconvert_exporter": "python",
   "pygments_lexer": "ipython3",
   "version": "3.9.16"
  }
 },
 "nbformat": 4,
 "nbformat_minor": 5
}
