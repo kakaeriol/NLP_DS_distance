{
 "cells": [
  {
   "cell_type": "code",
   "execution_count": 1,
   "id": "4cdfe6fa-409c-48be-9007-abe59d0cd2a5",
   "metadata": {
    "tags": []
   },
   "outputs": [],
   "source": [
    "import sys\n",
    "import os\n",
    "\n",
    "directory = os.getcwd()\n",
    "sys.path.append(directory)"
   ]
  },
  {
   "cell_type": "code",
   "execution_count": 2,
   "id": "14da7a23-0adf-47cf-a426-5007ff697755",
   "metadata": {},
   "outputs": [
    {
     "name": "stderr",
     "output_type": "stream",
     "text": [
      "2023-04-13 16:54:25.109821: I tensorflow/core/platform/cpu_feature_guard.cc:193] This TensorFlow binary is optimized with oneAPI Deep Neural Network Library (oneDNN) to use the following CPU instructions in performance-critical operations:  AVX2 AVX512F FMA\n",
      "To enable them in other operations, rebuild TensorFlow with the appropriate compiler flags.\n"
     ]
    }
   ],
   "source": [
    "from preprocessing import preprocessing_token as pp\n",
    "from preprocessing import preprocessing_raw as pr\n",
    "import pandas as pd"
   ]
  },
  {
   "cell_type": "code",
   "execution_count": 3,
   "id": "cbda6223-bc46-460f-835d-362eb093a1b2",
   "metadata": {},
   "outputs": [],
   "source": [
    "from sysconf import conf"
   ]
  },
  {
   "cell_type": "code",
   "execution_count": 4,
   "id": "a2064a08-90e7-4626-bc5c-89c5e393fece",
   "metadata": {},
   "outputs": [
    {
     "name": "stdout",
     "output_type": "stream",
     "text": [
      "raw_MELD_path\n",
      "raw_Daily_Dailog_path\n",
      "raw_IEMOCAP_path\n",
      "pickle_IEMOCAP_path\n",
      "base_preprocessing_data\n",
      "pickle_raw_MELD\n",
      "pickle_raw_IEMOCAP\n",
      "pickle_raw_Daily_Dailog\n",
      "pickle_fts_token_MELD\n",
      "pickle_fts_token_IEMOCAP\n",
      "pickle_fts_token_Daily_Dailog\n",
      "pkl_embedd_MELD\n",
      "pkl_embedd_IEMOCAP\n",
      "pkl_embedd_Daily_Dailog\n",
      "glove_path\n"
     ]
    }
   ],
   "source": [
    "for i in conf.keys():\n",
    "    print(i)"
   ]
  },
  {
   "cell_type": "code",
   "execution_count": 5,
   "id": "63967447-1faa-4185-b8e2-9e66c5af424c",
   "metadata": {},
   "outputs": [
    {
     "name": "stdout",
     "output_type": "stream",
     "text": [
      "Preprocessing MELD raw\n",
      "Preprocessing IEMOCAP raw\n",
      "Preprocessing Dialog Daily raw\n"
     ]
    }
   ],
   "source": [
    "##################### ---  GENERATE THE RAW DATA # ------------------------------\n",
    "\n",
    "print('Preprocessing MELD raw')\n",
    "meld_tool = pr.MELD_preprocessing()\n",
    "meld_raw = meld_tool.raw_MELD_DS_segment(conf[\"raw_MELD_path\"])\n",
    "pd.to_pickle(meld_raw, conf[\"pickle_raw_MELD\"])\n",
    "#-------------------------------------------------\n",
    "print('Preprocessing IEMOCAP raw') ## from the pickle file\n",
    "iemo_itool = pr.IEMOCAP_preprocessing()\n",
    "iemo_raw = iemo_itool.create_IEMOCAP_from_pkl(conf[\"pickle_IEMOCAP_path\"])\n",
    "pd.to_pickle(iemo_raw, conf[\"pickle_raw_IEMOCAP\"])\n",
    "#-------------------------------------------------------------------------\n",
    "print('Preprocessing Dialog Daily raw') \n",
    "dd_tool = pr.Daily_Dialog_preprocessing()\n",
    "diaglog_raw = dd_tool.raw_DD_DS_segment(conf[\"raw_Daily_Dailog_path\"])\n",
    "pd.to_pickle(diaglog_raw, conf[\"pickle_raw_Daily_Dailog\"])\n",
    "\n",
    "#### GENERATE TOKEN DATA ###########"
   ]
  },
  {
   "cell_type": "code",
   "execution_count": 6,
   "id": "21a4d53d-b9df-4e41-8316-c08ba1782599",
   "metadata": {},
   "outputs": [
    {
     "name": "stdout",
     "output_type": "stream",
     "text": [
      "GENERAING THE TOKEN\n",
      "Processing Token MELD \n",
      "Finish calculate token and save in /home/n/nguyenpk/CS6220/project/NLP_DS_distance/data/MELD_token_fts.pkl\n",
      "COMPUTING THE EMBEDDING MATRIX\n",
      "Loading GloVe model, this can take some time...\n",
      "Finish embedding and save in: \n",
      " :/home/n/nguyenpk/CS6220/project/NLP_DS_distance/data/MELD_embedd.pkl\n",
      "Processing Token IEMOCAP \n",
      "Finish calculate token and save in /home/n/nguyenpk/CS6220/project/NLP_DS_distance/data/IEMOCAP_token_fts.pkl\n",
      "COMPUTING THE EMBEDDING MATRIX\n",
      "Loading GloVe model, this can take some time...\n",
      "Finish embedding and save in: \n",
      " :/home/n/nguyenpk/CS6220/project/NLP_DS_distance/data/IEMOCAP_embedd.pkl\n",
      "Processing Token Daily_Dailog \n",
      "Finish calculate token and save in /home/n/nguyenpk/CS6220/project/NLP_DS_distance/data/Daily_token_fts.pkl\n",
      "COMPUTING THE EMBEDDING MATRIX\n",
      "Loading GloVe model, this can take some time...\n",
      "Finish embedding and save in: \n",
      " :/home/n/nguyenpk/CS6220/project/NLP_DS_distance/data/Daily_embedd.pkl\n"
     ]
    }
   ],
   "source": [
    "out_dict = {}\n",
    "print('GENERAING THE TOKEN')\n",
    "for i in [\"MELD\", \"IEMOCAP\", \"Daily_Dailog\"]:\n",
    "    print(\"Processing Token {} \".format(i))\n",
    "    ikey_input = \"pickle_raw_{}\".format(i)\n",
    "    ikey_out_token = \"pickle_fts_token_{}\".format(i)\n",
    "    preprocess_tool = pp.Preprocessing_Data_Token(conf[ikey_input])\n",
    "    out_dict[i] = preprocess_tool.processing_token_data_segment(conf[ikey_out_token])\n",
    "    print(\"Finish calculate token and save in {}\".format(conf[ikey_out_token]))\n",
    "    ikey_out_embedd = \"pkl_embedd_{}\".format(i)\n",
    "    print(\"COMPUTING THE EMBEDDING MATRIX\")\n",
    "    out_dict[\"{}_embb\".format(i)] =preprocess_tool.create_pretrain_embedding(conf[ikey_out_embedd])\n",
    "    print(\"Finish embedding and save in: \\n :{}\".format(conf[ikey_out_embedd]))"
   ]
  },
  {
   "cell_type": "code",
   "execution_count": 138,
   "id": "131bbe48-aee5-49f6-bc3e-9ddbcedcf684",
   "metadata": {},
   "outputs": [],
   "source": [
    "DD_preprocess = Preprocessing_Data_Token(\"Diaglog_raw.pkl\")"
   ]
  },
  {
   "cell_type": "code",
   "execution_count": 139,
   "id": "daa02873-b9e1-47ce-ab45-794a41002287",
   "metadata": {},
   "outputs": [
    {
     "name": "stdout",
     "output_type": "stream",
     "text": [
      "Loading GloVe model, this can take some time...\n"
     ]
    }
   ],
   "source": [
    "output = DD_preprocess.processing_token_data_segment()\n",
    "embedding = DD_preprocess.create_pretrain_embedding()"
   ]
  },
  {
   "cell_type": "code",
   "execution_count": 124,
   "id": "0716fe2f-3943-4555-bb0f-1fdc996caf6e",
   "metadata": {},
   "outputs": [
    {
     "name": "stdout",
     "output_type": "stream",
     "text": [
      "train dict_keys(['data_token', 'max_len', 'token_raw', 'conversation', 'speakers', 'emotions', 'actions', 'topics'])\n",
      "test dict_keys(['data_token', 'max_len', 'token_raw', 'conversation', 'speakers', 'emotions', 'actions', 'topics'])\n",
      "dev dict_keys(['data_token', 'max_len', 'token_raw', 'conversation', 'speakers', 'emotions', 'actions', 'topics'])\n"
     ]
    }
   ],
   "source": [
    "for i in ['train', 'test', 'dev']:\n",
    "    print(i, output[i].keys())\n",
    "    print( output[i][0])"
   ]
  },
  {
   "cell_type": "code",
   "execution_count": 132,
   "id": "2ea5ad58-7b33-4ce7-9b33-2f0979d2f32f",
   "metadata": {},
   "outputs": [
    {
     "data": {
      "text/plain": [
       "[]"
      ]
     },
     "execution_count": 132,
     "metadata": {},
     "output_type": "execute_result"
    }
   ],
   "source": [
    "output['test']['topics']"
   ]
  },
  {
   "cell_type": "code",
   "execution_count": 134,
   "id": "cd17f0a4-f5f1-41c9-8708-c9910cf58bc4",
   "metadata": {},
   "outputs": [
    {
     "data": {
      "text/plain": [
       "<keras.preprocessing.text.Tokenizer at 0x7f8cd33e7670>"
      ]
     },
     "execution_count": 134,
     "metadata": {},
     "output_type": "execute_result"
    }
   ],
   "source": [
    "DD_preprocess.tokenizer"
   ]
  },
  {
   "cell_type": "code",
   "execution_count": null,
   "id": "9e20749a-19a2-48f4-83af-fca1fc96f134",
   "metadata": {},
   "outputs": [],
   "source": []
  }
 ],
 "metadata": {
  "kernelspec": {
   "display_name": "tf-gpu",
   "language": "python",
   "name": "tf-gpu"
  },
  "language_info": {
   "codemirror_mode": {
    "name": "ipython",
    "version": 3
   },
   "file_extension": ".py",
   "mimetype": "text/x-python",
   "name": "python",
   "nbconvert_exporter": "python",
   "pygments_lexer": "ipython3",
   "version": "3.9.16"
  }
 },
 "nbformat": 4,
 "nbformat_minor": 5
}
