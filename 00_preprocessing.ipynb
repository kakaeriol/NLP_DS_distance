{
 "cells": [
  {
   "cell_type": "code",
   "execution_count": 1,
   "id": "4cdfe6fa-409c-48be-9007-abe59d0cd2a5",
   "metadata": {},
   "outputs": [],
   "source": [
    "import pandas as pd\n",
    "from preprocessing import Daily_Dialog_preprocessing, MELD_preprocessing, IEMOCAP_preprocessing"
   ]
  },
  {
   "cell_type": "code",
   "execution_count": 5,
   "id": "b8b739a7-2341-4f4d-a397-cdf0f977a24a",
   "metadata": {},
   "outputs": [],
   "source": [
    "conf = {}\n",
    "conf[\"raw_MELD_path\"] = \"/home/n/nguyenpk/CS6208/GNN_ERC/data/MELD.Raw\"\n",
    "conf[\"raw_Daily_Dailog_path\"] = \"/home/n/nguyenpk/CS6208/GNN_ERC/data/Dialog\" \n",
    "conf[\"raw_IEMOCAP_path\"] = \"/home/n/nguyenpk/IEMOCAP_full_release\"\n",
    "conf[\"pickle_IEMOCAP_path\"] = \"/home/n/nguyenpk/CS6208/GNN_ERC/data/IEMOCAP_features.pkl\"\n",
    "# conf[\"glove_path\"] = "
   ]
  },
  {
   "cell_type": "code",
   "execution_count": 6,
   "id": "1e902d31-4f9b-4f1a-9ec9-94edc998fb18",
   "metadata": {},
   "outputs": [],
   "source": [
    "meld_tool = MELD_preprocessing()\n",
    "meld_raw = meld_tool.raw_MELD_DS_segment(\"/home/n/nguyenpk/CS6208/GNN_ERC/data/MELD.Raw/\")"
   ]
  },
  {
   "cell_type": "code",
   "execution_count": 7,
   "id": "13ab4439-28d5-4530-8642-752f50cba2de",
   "metadata": {},
   "outputs": [],
   "source": [
    "itool = IEMOCAP_preprocessing()\n",
    "iemo_pkl = itool.create_IEMOCAP_from_pkl(conf[\"pickle_IEMOCAP_path\"])"
   ]
  },
  {
   "cell_type": "code",
   "execution_count": 8,
   "id": "60166c95-bb3f-4def-ab97-589e817b5098",
   "metadata": {},
   "outputs": [],
   "source": [
    "dd_tool = Daily_Dialog_preprocessing()\n",
    "Diaglog_raw = dd_tool.raw_DD_DS_segment(\"/home/n/nguyenpk/CS6208/GNN_ERC/data/Dialog\")"
   ]
  },
  {
   "cell_type": "code",
   "execution_count": 9,
   "id": "85524d53-9d60-4614-b68a-54badb045954",
   "metadata": {},
   "outputs": [],
   "source": [
    "IEMO_raw = itool.create_dataset_from_IEMOCAP_base('/home/n/nguyenpk/IEMOCAP_full_release')"
   ]
  },
  {
   "cell_type": "code",
   "execution_count": 12,
   "id": "94107255-7d63-4423-97b7-8250e46fdbf9",
   "metadata": {},
   "outputs": [],
   "source": [
    "pd.to_pickle(meld_raw, 'MELD_raw.pkl')\n",
    "pd.to_pickle(iemo_pkl, 'IEMOCAP_from_pkl.pkl')\n",
    "pd.to_pickle(Diaglog_raw, 'Diaglog_raw.pkl')\n",
    "pd.to_pickle(IEMO_raw, 'IEMOCAP_raw.pkl')"
   ]
  },
  {
   "cell_type": "code",
   "execution_count": null,
   "id": "04add380-60f6-41ec-8d97-2178df234ce4",
   "metadata": {},
   "outputs": [],
   "source": []
  }
 ],
 "metadata": {
  "kernelspec": {
   "display_name": "Python 3 (ipykernel)",
   "language": "python",
   "name": "python3"
  },
  "language_info": {
   "codemirror_mode": {
    "name": "ipython",
    "version": 3
   },
   "file_extension": ".py",
   "mimetype": "text/x-python",
   "name": "python",
   "nbconvert_exporter": "python",
   "pygments_lexer": "ipython3",
   "version": "3.8.10"
  }
 },
 "nbformat": 4,
 "nbformat_minor": 5
}
