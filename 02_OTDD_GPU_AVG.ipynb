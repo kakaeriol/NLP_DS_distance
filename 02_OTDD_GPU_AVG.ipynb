{
 "cells": [
  {
   "cell_type": "code",
   "execution_count": 1,
   "id": "7881eb30-e95d-4708-9f2d-1630f1229b2f",
   "metadata": {},
   "outputs": [],
   "source": [
    "%load_ext autoreload\n",
    "%autoreload 2"
   ]
  },
  {
   "cell_type": "code",
   "execution_count": 2,
   "id": "01f50a3a-65e1-4510-8e2d-584d12dfb0fd",
   "metadata": {
    "tags": []
   },
   "outputs": [
    {
     "name": "stderr",
     "output_type": "stream",
     "text": [
      "/home/n/nguyenpk/CS6220/otdd/otdd/pytorch/distance.py:23: TqdmWarning: IProgress not found. Please update jupyter and ipywidgets. See https://ipywidgets.readthedocs.io/en/stable/user_install.html\n",
      "  from tqdm.autonotebook import tqdm\n"
     ]
    },
    {
     "name": "stdout",
     "output_type": "stream",
     "text": [
      "\n",
      "[KeOps] Warning : There were warnings or errors compiling formula :\n",
      "<stdin>:1:10: fatal error: cuda.h: No such file or directory\n",
      "compilation terminated.\n",
      "\n",
      "[KeOps] Warning : \n",
      "    The location of Cuda header files cuda.h and nvrtc.h could not be detected on your system.\n",
      "    You must determine their location and then define the environment variable CUDA_PATH,\n",
      "    either before launching Python or using os.environ before importing keops. For example\n",
      "    if these files are in /vol/cuda/10.2.89-cudnn7.6.4.38/include you can do :\n",
      "      import os\n",
      "      os.environ['CUDA_PATH'] = '/vol/cuda/10.2.89-cudnn7.6.4.38'\n",
      "    \n",
      "[KeOps] Compiling cuda jit compiler engine ... \n",
      "[KeOps] Warning : There were warnings or errors compiling formula :\n",
      "/home/n/nguyenpk/.local/lib/python3.8/site-packages/keopscore/binders/nvrtc/nvrtc_jit.cpp:5:10: fatal error: nvrtc.h: No such file or directory\n",
      "    5 | #include <nvrtc.h>\n",
      "      |          ^~~~~~~~~\n",
      "compilation terminated.\n",
      "\n",
      "OK\n",
      "[pyKeOps] Compiling nvrtc binder for python ... \n",
      "[KeOps] Warning : There were warnings or errors compiling formula :\n",
      "In file included from /home/n/nguyenpk/.local/lib/python3.8/site-packages/pykeops/common/keops_io/pykeops_nvrtc.cpp:4:\n",
      "/home/n/nguyenpk/.local/lib/python3.8/site-packages/keopscore/binders/nvrtc/keops_nvrtc.cpp:6:10: fatal error: nvrtc.h: No such file or directory\n",
      "    6 | #include <nvrtc.h>\n",
      "      |          ^~~~~~~~~\n",
      "compilation terminated.\n",
      "\n",
      "OK\n"
     ]
    },
    {
     "name": "stderr",
     "output_type": "stream",
     "text": [
      "ot.gpu not found - coupling computation will be in cpu\n"
     ]
    }
   ],
   "source": [
    "###### check two data set\n",
    "import os, sys\n",
    "sys.path.append(\"/home/n/nguyenpk/CS6220/otdd\")\n",
    "import otdd\n",
    "from otdd.pytorch.distance import DatasetDistance\n",
    "#------------------------------------------------------\n",
    "# pytorch library\n",
    "\n",
    "import pandas as pd\n",
    "import math\n",
    "import random\n",
    "import torch\n",
    "\n",
    "from torch.utils.data import Dataset\n",
    "from torch.utils.data import DataLoader\n",
    "\n",
    "from torch.nn.utils.rnn import pad_sequence\n",
    "import pickle, pandas as pd\n",
    "from sklearn.preprocessing import LabelEncoder\n",
    "from sklearn import preprocessing\n",
    "import torch.nn as nn\n",
    "\n",
    "import numpy as np\n",
    "import torch.nn.functional as f\n",
    "\n",
    "# -------------------------------------------\n",
    "from transformers import BertModel, BertTokenizer,BertTokenizerFast\n",
    "import gc\n",
    "#--------------------------------------------------------\n",
    "seed = 100\n",
    "if torch.cuda.is_available():\n",
    "    generator = torch.Generator('cuda').manual_seed(seed)\n",
    "    device = \"cuda:0\"\n",
    "else:\n",
    "    generator = torch.Generator().manual_seed(seed)\n",
    "    device = \"cpu\""
   ]
  },
  {
   "cell_type": "markdown",
   "id": "1303e0fa-c138-4d85-a2cd-b9fc2d9e9dd9",
   "metadata": {},
   "source": [
    "# CREATE THE BERT TRANSFROM\n"
   ]
  },
  {
   "cell_type": "code",
   "execution_count": 3,
   "id": "3160111e-56a5-4078-9e0d-cdea94153b21",
   "metadata": {},
   "outputs": [
    {
     "name": "stderr",
     "output_type": "stream",
     "text": [
      "Some weights of the model checkpoint at bert-large-cased were not used when initializing BertModel: ['cls.seq_relationship.bias', 'cls.predictions.transform.LayerNorm.bias', 'cls.seq_relationship.weight', 'cls.predictions.transform.dense.weight', 'cls.predictions.bias', 'cls.predictions.decoder.weight', 'cls.predictions.transform.dense.bias', 'cls.predictions.transform.LayerNorm.weight']\n",
      "- This IS expected if you are initializing BertModel from the checkpoint of a model trained on another task or with another architecture (e.g. initializing a BertForSequenceClassification model from a BertForPreTraining model).\n",
      "- This IS NOT expected if you are initializing BertModel from the checkpoint of a model that you expect to be exactly identical (initializing a BertForSequenceClassification model from a BertForSequenceClassification model).\n"
     ]
    }
   ],
   "source": [
    "# loading bert \n",
    "# -------------------------------------------\n",
    "from transformers import BertModel, BertTokenizer,BertTokenizerFast\n",
    "import gc\n",
    "bert_version = 'bert-large-cased'\n",
    "tokenizer = BertTokenizer.from_pretrained(bert_version)\n",
    "model = BertModel.from_pretrained(bert_version)"
   ]
  },
  {
   "cell_type": "code",
   "execution_count": 4,
   "id": "2ad8db9c-9c8e-4b1e-8bb3-a8bdf5bf2848",
   "metadata": {},
   "outputs": [],
   "source": [
    "conf = {}\n",
    "conf[\"pickle_raw_MELD\"] = \"/home/n/nguyenpk/CS6220/project/NLP_DS_distance/data/MELD_raw.pkl\"\n",
    "conf[\"pickle_raw_IEMOCAP\"] = \"/home/n/nguyenpk/CS6220/project/NLP_DS_distance/data/IEMOCAP_raw.pkl\"\n",
    "conf[\"pickle_raw_Daily\"] = \"/home/n/nguyenpk/CS6220/project/NLP_DS_distance/data/Daily_Dailog_raw.pkl\""
   ]
  },
  {
   "cell_type": "raw",
   "id": "03b9b31f-c721-441f-b9cc-d2f2e7dba733",
   "metadata": {
    "tags": []
   },
   "source": [
    "model = model.eval()\n",
    "model = model.to(device)\n",
    "for itype in [\"MELD\", \"IEMOCAP\", \"Daily\"]:\n",
    "    print(itype)\n",
    "    data = pd.read_pickle(conf[\"pickle_raw_{}\".format(itype)])\n",
    "    ll  = []\n",
    "    ll_label = []\n",
    "    ll_train = []\n",
    "    ll_test =  []\n",
    "    ll_valid = []\n",
    "    icount = 0\n",
    "    ilen   = 0\n",
    "    for ii in [\"train\", \"test\", \"dev\"]:\n",
    "        idata = data[ii]\n",
    "        for idx, conv in enumerate(idata['conversation']):\n",
    "            ll.append(conv)\n",
    "            ll_label.append(idata[\"emotions\"][idx])\n",
    "            \n",
    "            if ii == \"train\":\n",
    "                ll_train.append([ilen + j for j in range(len(conv))])\n",
    "            elif ii == \"test\":\n",
    "                ll_test.append([ilen + j for j in range(len(conv))])\n",
    "            else:\n",
    "                ll_valid.append([ilen + j for j in range(len(conv))])\n",
    "            icount = icount + idx\n",
    "            ilen = ilen + len(conv)\n",
    "\n",
    "    rs_embedd_CLS = []\n",
    "    rs_embedd_AVG = []\n",
    "    print(len(ll))\n",
    "    for ii, subtext in enumerate(ll):\n",
    "        if (ii % 100) == 0:\n",
    "            print(ii)\n",
    "        encodings = tokenizer(\n",
    "            subtext, # the texts to be tokenized\n",
    "            padding=\"max_length\", max_length=300,\n",
    "            # padding=True, # pad the texts to the maximum length (so that all outputs have the same length)\n",
    "            return_tensors='pt' # return the tensors (not lists)\n",
    "        )\n",
    "        encodings = encodings.to(device)\n",
    "        with torch.no_grad():\n",
    "            embeds = model(**encodings)\n",
    "        rs_embedd_CLS.append(embeds[0][:, 0, :].to('cpu'))\n",
    "        rs_embedd_AVG.append(embeds[0].mean(dim=1).to('cpu'))\n",
    "        del embeds\n",
    "        del encodings\n",
    "        gc.collect()\n",
    "        torch.cuda.empty_cache()\n",
    "        \n",
    "    rs_out  = {'embedd_CLS': rs_embedd_CLS, 'embedd_AVG': rs_embedd_AVG, 'label':ll_label, 'train': ll_train, 'test':ll_test, 'valid':ll_valid }\n",
    "    print(\"Writing the output to data/BERT_embed/{}_bert_embd.pickle\".format(itype))\n",
    "    pd.to_pickle(rs_out, \"data/BERT_embed/{}_bert_embd.pickle\".format(itype))\n",
    "    print(\"Finish writing the result\")"
   ]
  },
  {
   "cell_type": "code",
   "execution_count": 5,
   "id": "0321b945-8fcb-4d4e-804d-de40044214ab",
   "metadata": {},
   "outputs": [],
   "source": [
    "ikey = \"IEMOCAP\"\n",
    "idata = pd.read_pickle(\"data/BERT_embed/{}_bert_embd.pickle\".format(ikey))"
   ]
  },
  {
   "cell_type": "code",
   "execution_count": 7,
   "id": "30f395cb-6652-4b07-9337-8ea217b279d8",
   "metadata": {},
   "outputs": [
    {
     "data": {
      "text/plain": [
       "dict_keys(['embedd_CLS', 'embedd_AVG', 'label', 'train', 'test', 'valid'])"
      ]
     },
     "execution_count": 7,
     "metadata": {},
     "output_type": "execute_result"
    }
   ],
   "source": [
    "idata.keys()"
   ]
  },
  {
   "cell_type": "code",
   "execution_count": 5,
   "id": "55191713-7ac9-4873-8007-1c1d4c42ed3c",
   "metadata": {},
   "outputs": [
    {
     "name": "stdout",
     "output_type": "stream",
     "text": [
      "IEMOCAP\n",
      "Daily\n",
      "MELD\n"
     ]
    }
   ],
   "source": [
    "dict_DS = {} ## --> data_name -> {'all', 'train', 'test', 'dev'}\n",
    "rs = {}\n",
    "# Read data from file and process\n",
    "for ikey in [\"IEMOCAP\", \"Daily\", \"MELD\"]:\n",
    "    print(ikey)\n",
    "    idata = pd.read_pickle(\"data/BERT_embed/{}_bert_embd.pickle\".format(ikey))\n",
    "    data = torch.cat([i.to('cpu') for i in idata[\"embedd_AVG\"]])\n",
    "    label = torch.tensor(np.concatenate(idata[\"label\"]), dtype = int)\n",
    "    rs[\"{}_all\".format(ikey)] = (data, label)\n",
    "    # \n",
    "    n_train = len(idata[\"train\"])\n",
    "    n_test = len(idata[\"test\"])\n",
    "    n_dev = len(idata[\"valid\"])\n",
    "    # ----\n",
    "    data_train = torch.cat([i.to('cpu') for i in idata[\"embedd_AVG\"][:n_train]])\n",
    "    label_train = torch.tensor(np.concatenate(idata[\"label\"][:n_train]), dtype = int)\n",
    "    rs[\"{}_train\".format(ikey)] = (data_train, label_train)\n",
    "    # --- \n",
    "    data_test = torch.cat([i.to('cpu') for i in idata[\"embedd_AVG\"][n_train:n_train+n_test]])\n",
    "    label_test = torch.tensor(np.concatenate(idata[\"label\"][n_train:n_train+n_test]), dtype = int)\n",
    "    rs[\"{}_test\".format(ikey)] = (data_test, label_test)\n",
    "    #\n",
    "    data_dev = torch.cat([i.to('cpu') for i in idata[\"embedd_AVG\"][n_train+n_test:]])\n",
    "    label_dev = torch.tensor(np.concatenate(idata[\"label\"][n_train+n_test:]), dtype=int)\n",
    "    rs[\"{}_dev\".format(ikey)] = (data_dev, label_dev)\n",
    "    # del idata\n",
    "    # gc.collect()\n",
    "    # torch.cuda.empty_cache()\n"
   ]
  },
  {
   "cell_type": "code",
   "execution_count": 6,
   "id": "52e86983-49bf-485a-bb09-8d666cc15e93",
   "metadata": {},
   "outputs": [],
   "source": [
    "class my_DataSet(Dataset):\n",
    "    \"\"\"\n",
    "     This class create my dataset\n",
    "    \"\"\"\n",
    "    def __init__(self, data):\n",
    "        self.data = data[0]\n",
    "        self.targets = torch.tensor(data[1], dtype=int)\n",
    "        self.len = len(self.targets)\n",
    "    def __getitem__(self, index):\n",
    "        return self.data[index], self.targets[index]\n",
    "    def __len__(self):\n",
    "        return self.len\n",
    "    def __delitem__(self, key):\n",
    "        self.data = np.delete(self.data, key, axis=0)\n",
    "        self.targets = np.delete(self.targets, key, axis=0)"
   ]
  },
  {
   "cell_type": "code",
   "execution_count": 7,
   "id": "1e2f20a8-3fd5-4ddf-81f8-2e31b78ec8cf",
   "metadata": {
    "collapsed": true,
    "jupyter": {
     "outputs_hidden": true
    },
    "tags": []
   },
   "outputs": [
    {
     "name": "stdout",
     "output_type": "stream",
     "text": [
      "Create the dataset\n",
      "IEMOCAP_all 7433 torch.Size([7433, 1024]) torch.Size([7433])\n",
      "IEMOCAP_train 5146 torch.Size([5146, 1024]) torch.Size([5146])\n",
      "IEMOCAP_test 1623 torch.Size([1623, 1024]) torch.Size([1623])\n",
      "IEMOCAP_dev 664 torch.Size([664, 1024]) torch.Size([664])\n",
      "Daily_all 102979 torch.Size([102980, 1024]) torch.Size([102979])\n",
      "Daily_train 87170 torch.Size([87171, 1024]) torch.Size([87170])\n",
      "Daily_test 7740 torch.Size([7740, 1024]) torch.Size([7740])\n",
      "Daily_dev 8069 torch.Size([8069, 1024]) torch.Size([8069])\n",
      "MELD_all 13708 torch.Size([13708, 1024]) torch.Size([13708])\n",
      "MELD_train 9989 torch.Size([9989, 1024]) torch.Size([9989])\n",
      "MELD_test 2610 torch.Size([2610, 1024]) torch.Size([2610])\n",
      "MELD_dev 1109 torch.Size([1109, 1024]) torch.Size([1109])\n",
      "Begin compute the distance\n",
      "Begin compute distance between: IEMOCAP_all IEMOCAP_all\n"
     ]
    },
    {
     "name": "stderr",
     "output_type": "stream",
     "text": [
      "/tmp/ipykernel_2535239/2001181946.py:7: UserWarning: To copy construct from a tensor, it is recommended to use sourceTensor.clone().detach() or sourceTensor.clone().detach().requires_grad_(True), rather than torch.tensor(sourceTensor).\n",
      "  self.targets = torch.tensor(data[1], dtype=int)\n",
      "/home/n/nguyenpk/CS6220/otdd/otdd/pytorch/moments.py:173: UserWarning: The use of `x.T` on tensors of dimension other than 2 to reverse their shape is deprecated and it will throw an error in a future release. Consider `x.mT` to transpose batches of matricesor `x.permute(*torch.arange(x.ndim - 1, -1, -1))` to reverse the dimensions of a tensor. (Triggered internally at  ../aten/src/ATen/native/TensorShape.cpp:2318.)\n",
      "  return self.μ, self.Σ - torch.ger(self.μ.T,self.μ)*self.n/(self.n-1)\n",
      "0it [00:00, ?it/s]/home/n/nguyenpk/CS6220/otdd/otdd/pytorch/sqrtm.py:54: UserWarning: torch.symeig is deprecated in favor of torch.linalg.eigh and will be removed in a future PyTorch release.\n",
      "The default behavior has changed from using the upper triangular portion of the matrix by default to using the lower triangular portion.\n",
      "L, _ = torch.symeig(A, upper=upper)\n",
      "should be replaced with\n",
      "L = torch.linalg.eigvalsh(A, UPLO='U' if upper else 'L')\n",
      "and\n",
      "L, V = torch.symeig(A, eigenvectors=True)\n",
      "should be replaced with\n",
      "L, V = torch.linalg.eigh(A, UPLO='U' if upper else 'L') (Triggered internally at  ../aten/src/ATen/native/BatchLinearAlgebra.cpp:2524.)\n",
      "  s, v = A.symeig(eigenvectors=True) # This is faster in GPU than CPU, fails gradcheck. See https://github.com/pytorch/pytorch/issues/30578\n",
      "                                                                                   \r"
     ]
    },
    {
     "name": "stdout",
     "output_type": "stream",
     "text": [
      "Finish compute distance: 33.969486236572266\n",
      "Begin compute distance between: IEMOCAP_all IEMOCAP_train\n"
     ]
    },
    {
     "name": "stderr",
     "output_type": "stream",
     "text": [
      "                                                                                   \r"
     ]
    },
    {
     "name": "stdout",
     "output_type": "stream",
     "text": [
      "Finish compute distance: 33.69279479980469\n",
      "Begin compute distance between: IEMOCAP_all IEMOCAP_test\n"
     ]
    },
    {
     "name": "stderr",
     "output_type": "stream",
     "text": [
      "                                                                                   \r"
     ]
    },
    {
     "name": "stdout",
     "output_type": "stream",
     "text": [
      "Finish compute distance: 36.011444091796875\n",
      "Begin compute distance between: IEMOCAP_all IEMOCAP_dev\n"
     ]
    },
    {
     "name": "stderr",
     "output_type": "stream",
     "text": [
      "                                                                                   \r"
     ]
    },
    {
     "name": "stdout",
     "output_type": "stream",
     "text": [
      "Finish compute distance: 39.0225715637207\n",
      "Begin compute distance between: IEMOCAP_all Daily_all\n"
     ]
    },
    {
     "name": "stderr",
     "output_type": "stream",
     "text": [
      "                                                                                   \r"
     ]
    },
    {
     "name": "stdout",
     "output_type": "stream",
     "text": [
      "Finish compute distance: 54.747955322265625\n",
      "Begin compute distance between: IEMOCAP_all Daily_train\n"
     ]
    },
    {
     "name": "stderr",
     "output_type": "stream",
     "text": [
      "                                                                                   \r"
     ]
    },
    {
     "name": "stdout",
     "output_type": "stream",
     "text": [
      "Finish compute distance: 54.167572021484375\n",
      "Begin compute distance between: IEMOCAP_all Daily_test\n"
     ]
    },
    {
     "name": "stderr",
     "output_type": "stream",
     "text": [
      "                                                                                   \r"
     ]
    },
    {
     "name": "stdout",
     "output_type": "stream",
     "text": [
      "Finish compute distance: 54.68488693237305\n",
      "Begin compute distance between: IEMOCAP_all Daily_dev\n"
     ]
    },
    {
     "name": "stderr",
     "output_type": "stream",
     "text": [
      "                                                                                   \r"
     ]
    },
    {
     "name": "stdout",
     "output_type": "stream",
     "text": [
      "Finish compute distance: 61.56135177612305\n",
      "Begin compute distance between: IEMOCAP_all MELD_test\n"
     ]
    },
    {
     "name": "stderr",
     "output_type": "stream",
     "text": [
      "                                                                                   \r"
     ]
    },
    {
     "name": "stdout",
     "output_type": "stream",
     "text": [
      "Finish compute distance: 62.0144157409668\n",
      "Begin compute distance between: IEMOCAP_all MELD_dev\n"
     ]
    },
    {
     "name": "stderr",
     "output_type": "stream",
     "text": [
      "                                                                                   \r"
     ]
    },
    {
     "name": "stdout",
     "output_type": "stream",
     "text": [
      "Finish compute distance: 63.264862060546875\n",
      "Begin compute distance between: IEMOCAP_train IEMOCAP_all\n"
     ]
    },
    {
     "name": "stderr",
     "output_type": "stream",
     "text": [
      "                                                                                   \r"
     ]
    },
    {
     "name": "stdout",
     "output_type": "stream",
     "text": [
      "Finish compute distance: 34.578704833984375\n",
      "Begin compute distance between: IEMOCAP_train IEMOCAP_train\n"
     ]
    },
    {
     "name": "stderr",
     "output_type": "stream",
     "text": [
      "                                                                                   \r"
     ]
    },
    {
     "name": "stdout",
     "output_type": "stream",
     "text": [
      "Finish compute distance: 32.277931213378906\n",
      "Begin compute distance between: IEMOCAP_train IEMOCAP_test\n"
     ]
    },
    {
     "name": "stderr",
     "output_type": "stream",
     "text": [
      "                                                                                   \r"
     ]
    },
    {
     "name": "stdout",
     "output_type": "stream",
     "text": [
      "Finish compute distance: 40.894195556640625\n",
      "Begin compute distance between: IEMOCAP_train IEMOCAP_dev\n"
     ]
    },
    {
     "name": "stderr",
     "output_type": "stream",
     "text": [
      "                                                                                   \r"
     ]
    },
    {
     "name": "stdout",
     "output_type": "stream",
     "text": [
      "Finish compute distance: 43.17072296142578\n",
      "Begin compute distance between: IEMOCAP_train Daily_all\n"
     ]
    },
    {
     "name": "stderr",
     "output_type": "stream",
     "text": [
      "                                                                                   \r"
     ]
    },
    {
     "name": "stdout",
     "output_type": "stream",
     "text": [
      "Finish compute distance: 53.878089904785156\n",
      "Begin compute distance between: IEMOCAP_train Daily_train\n"
     ]
    },
    {
     "name": "stderr",
     "output_type": "stream",
     "text": [
      "                                                                                   \r"
     ]
    },
    {
     "name": "stdout",
     "output_type": "stream",
     "text": [
      "Finish compute distance: 54.21745300292969\n",
      "Begin compute distance between: IEMOCAP_train Daily_test\n"
     ]
    },
    {
     "name": "stderr",
     "output_type": "stream",
     "text": [
      "                                                                                   \r"
     ]
    },
    {
     "name": "stdout",
     "output_type": "stream",
     "text": [
      "Finish compute distance: 54.42084503173828\n",
      "Begin compute distance between: IEMOCAP_train Daily_dev\n"
     ]
    },
    {
     "name": "stderr",
     "output_type": "stream",
     "text": [
      "                                                                                   \r"
     ]
    },
    {
     "name": "stdout",
     "output_type": "stream",
     "text": [
      "Finish compute distance: 58.740478515625\n",
      "Begin compute distance between: IEMOCAP_train MELD_all\n"
     ]
    },
    {
     "name": "stderr",
     "output_type": "stream",
     "text": [
      "                                                                                   \r"
     ]
    },
    {
     "name": "stdout",
     "output_type": "stream",
     "text": [
      "Finish compute distance: 61.43707275390625\n",
      "Begin compute distance between: IEMOCAP_train MELD_train\n"
     ]
    },
    {
     "name": "stderr",
     "output_type": "stream",
     "text": [
      "                                                                                   \r"
     ]
    },
    {
     "name": "stdout",
     "output_type": "stream",
     "text": [
      "Finish compute distance: 61.94670104980469\n",
      "Begin compute distance between: IEMOCAP_train MELD_test\n"
     ]
    },
    {
     "name": "stderr",
     "output_type": "stream",
     "text": [
      "                                                                                   \r"
     ]
    },
    {
     "name": "stdout",
     "output_type": "stream",
     "text": [
      "Finish compute distance: 61.85820388793945\n",
      "Begin compute distance between: IEMOCAP_train MELD_dev\n"
     ]
    },
    {
     "name": "stderr",
     "output_type": "stream",
     "text": [
      "                                                                                   \r"
     ]
    },
    {
     "name": "stdout",
     "output_type": "stream",
     "text": [
      "Finish compute distance: 63.98179626464844\n",
      "Begin compute distance between: IEMOCAP_test IEMOCAP_all\n"
     ]
    },
    {
     "name": "stderr",
     "output_type": "stream",
     "text": [
      "                                                                                   \r"
     ]
    },
    {
     "name": "stdout",
     "output_type": "stream",
     "text": [
      "Finish compute distance: 35.083717346191406\n",
      "Begin compute distance between: IEMOCAP_test IEMOCAP_train\n"
     ]
    },
    {
     "name": "stderr",
     "output_type": "stream",
     "text": [
      "                                                                                   \r"
     ]
    },
    {
     "name": "stdout",
     "output_type": "stream",
     "text": [
      "Finish compute distance: 40.220375061035156\n",
      "Begin compute distance between: IEMOCAP_test IEMOCAP_test\n"
     ]
    },
    {
     "name": "stderr",
     "output_type": "stream",
     "text": [
      "                                                                                   \r"
     ]
    },
    {
     "name": "stdout",
     "output_type": "stream",
     "text": [
      "Finish compute distance: 18.538488388061523\n",
      "Begin compute distance between: IEMOCAP_test IEMOCAP_dev\n"
     ]
    },
    {
     "name": "stderr",
     "output_type": "stream",
     "text": [
      "                                                                                   \r"
     ]
    },
    {
     "name": "stdout",
     "output_type": "stream",
     "text": [
      "Finish compute distance: 43.048248291015625\n",
      "Begin compute distance between: IEMOCAP_test Daily_all\n"
     ]
    },
    {
     "name": "stderr",
     "output_type": "stream",
     "text": [
      "                                                                                   \r"
     ]
    },
    {
     "name": "stdout",
     "output_type": "stream",
     "text": [
      "Finish compute distance: 55.00430679321289\n",
      "Begin compute distance between: IEMOCAP_test Daily_train\n"
     ]
    },
    {
     "name": "stderr",
     "output_type": "stream",
     "text": [
      "                                                                                   \r"
     ]
    },
    {
     "name": "stdout",
     "output_type": "stream",
     "text": [
      "Finish compute distance: 55.91368103027344\n",
      "Begin compute distance between: IEMOCAP_test Daily_test\n"
     ]
    },
    {
     "name": "stderr",
     "output_type": "stream",
     "text": [
      "                                                                                   \r"
     ]
    },
    {
     "name": "stdout",
     "output_type": "stream",
     "text": [
      "Finish compute distance: 55.968994140625\n",
      "Begin compute distance between: IEMOCAP_test Daily_dev\n"
     ]
    },
    {
     "name": "stderr",
     "output_type": "stream",
     "text": [
      "                                                                                   \r"
     ]
    },
    {
     "name": "stdout",
     "output_type": "stream",
     "text": [
      "Finish compute distance: 59.536685943603516\n",
      "Begin compute distance between: IEMOCAP_test MELD_all\n"
     ]
    },
    {
     "name": "stderr",
     "output_type": "stream",
     "text": [
      "                                                                                   \r"
     ]
    },
    {
     "name": "stdout",
     "output_type": "stream",
     "text": [
      "Finish compute distance: 61.528900146484375\n",
      "Begin compute distance between: IEMOCAP_test MELD_train\n"
     ]
    },
    {
     "name": "stderr",
     "output_type": "stream",
     "text": [
      "                                                                                   \r"
     ]
    },
    {
     "name": "stdout",
     "output_type": "stream",
     "text": [
      "Finish compute distance: 62.24267578125\n",
      "Begin compute distance between: IEMOCAP_test MELD_test\n"
     ]
    },
    {
     "name": "stderr",
     "output_type": "stream",
     "text": [
      "                                                                                   \r"
     ]
    },
    {
     "name": "stdout",
     "output_type": "stream",
     "text": [
      "Finish compute distance: 62.931884765625\n",
      "Begin compute distance between: IEMOCAP_test MELD_dev\n"
     ]
    },
    {
     "name": "stderr",
     "output_type": "stream",
     "text": [
      "                                                                                   \r"
     ]
    },
    {
     "name": "stdout",
     "output_type": "stream",
     "text": [
      "Finish compute distance: 63.57843780517578\n",
      "Begin compute distance between: IEMOCAP_dev IEMOCAP_all\n"
     ]
    },
    {
     "name": "stderr",
     "output_type": "stream",
     "text": [
      "                                                                                   \r"
     ]
    },
    {
     "name": "stdout",
     "output_type": "stream",
     "text": [
      "Finish compute distance: 39.162689208984375\n",
      "Begin compute distance between: IEMOCAP_dev IEMOCAP_train\n"
     ]
    },
    {
     "name": "stderr",
     "output_type": "stream",
     "text": [
      "                                                                                   \r"
     ]
    },
    {
     "name": "stdout",
     "output_type": "stream",
     "text": [
      "Finish compute distance: 43.12224578857422\n",
      "Begin compute distance between: IEMOCAP_dev IEMOCAP_test\n"
     ]
    },
    {
     "name": "stderr",
     "output_type": "stream",
     "text": [
      "                                                                                   \r"
     ]
    },
    {
     "name": "stdout",
     "output_type": "stream",
     "text": [
      "Finish compute distance: 43.090126037597656\n",
      "Begin compute distance between: IEMOCAP_dev IEMOCAP_dev\n"
     ]
    },
    {
     "name": "stderr",
     "output_type": "stream",
     "text": [
      "                                                                                   \r"
     ]
    },
    {
     "name": "stdout",
     "output_type": "stream",
     "text": [
      "Finish compute distance: 3.6733851432800293\n",
      "Begin compute distance between: IEMOCAP_dev Daily_all\n"
     ]
    },
    {
     "name": "stderr",
     "output_type": "stream",
     "text": [
      "                                                                                   \r"
     ]
    },
    {
     "name": "stdout",
     "output_type": "stream",
     "text": [
      "Finish compute distance: 56.267295837402344\n",
      "Begin compute distance between: IEMOCAP_dev Daily_train\n"
     ]
    },
    {
     "name": "stderr",
     "output_type": "stream",
     "text": [
      "                                                                                   \r"
     ]
    },
    {
     "name": "stdout",
     "output_type": "stream",
     "text": [
      "Finish compute distance: 56.453670501708984\n",
      "Begin compute distance between: IEMOCAP_dev Daily_test\n"
     ]
    },
    {
     "name": "stderr",
     "output_type": "stream",
     "text": [
      "                                                                                   \r"
     ]
    },
    {
     "name": "stdout",
     "output_type": "stream",
     "text": [
      "Finish compute distance: 57.90234375\n",
      "Begin compute distance between: IEMOCAP_dev Daily_dev\n"
     ]
    },
    {
     "name": "stderr",
     "output_type": "stream",
     "text": [
      "                                                                                   \r"
     ]
    },
    {
     "name": "stdout",
     "output_type": "stream",
     "text": [
      "Finish compute distance: 58.50074768066406\n",
      "Begin compute distance between: IEMOCAP_dev MELD_all\n"
     ]
    },
    {
     "name": "stderr",
     "output_type": "stream",
     "text": [
      "                                                                                   \r"
     ]
    },
    {
     "name": "stdout",
     "output_type": "stream",
     "text": [
      "Finish compute distance: 63.75899887084961\n",
      "Begin compute distance between: IEMOCAP_dev MELD_train\n"
     ]
    },
    {
     "name": "stderr",
     "output_type": "stream",
     "text": [
      "                                                                                   \r"
     ]
    },
    {
     "name": "stdout",
     "output_type": "stream",
     "text": [
      "Finish compute distance: 63.86780548095703\n",
      "Begin compute distance between: IEMOCAP_dev MELD_test\n"
     ]
    },
    {
     "name": "stderr",
     "output_type": "stream",
     "text": [
      "                                                                                   \r"
     ]
    },
    {
     "name": "stdout",
     "output_type": "stream",
     "text": [
      "Finish compute distance: 64.77427673339844\n",
      "Begin compute distance between: IEMOCAP_dev MELD_dev\n"
     ]
    },
    {
     "name": "stderr",
     "output_type": "stream",
     "text": [
      "                                                                                   \r"
     ]
    },
    {
     "name": "stdout",
     "output_type": "stream",
     "text": [
      "Finish compute distance: 65.75454711914062\n",
      "Begin compute distance between: Daily_all IEMOCAP_all\n"
     ]
    },
    {
     "name": "stderr",
     "output_type": "stream",
     "text": [
      "                                                                                   \r"
     ]
    },
    {
     "name": "stdout",
     "output_type": "stream",
     "text": [
      "Finish compute distance: 53.318397521972656\n",
      "Begin compute distance between: Daily_all IEMOCAP_train\n"
     ]
    },
    {
     "name": "stderr",
     "output_type": "stream",
     "text": [
      "                                                                                   \r"
     ]
    },
    {
     "name": "stdout",
     "output_type": "stream",
     "text": [
      "Finish compute distance: 54.9049072265625\n",
      "Begin compute distance between: Daily_all IEMOCAP_test\n"
     ]
    },
    {
     "name": "stderr",
     "output_type": "stream",
     "text": [
      "                                                                                   \r"
     ]
    },
    {
     "name": "stdout",
     "output_type": "stream",
     "text": [
      "Finish compute distance: 55.554229736328125\n",
      "Begin compute distance between: Daily_all IEMOCAP_dev\n"
     ]
    },
    {
     "name": "stderr",
     "output_type": "stream",
     "text": [
      "                                                                                   \r"
     ]
    },
    {
     "name": "stdout",
     "output_type": "stream",
     "text": [
      "Finish compute distance: 56.422752380371094\n",
      "Begin compute distance between: Daily_all Daily_all\n"
     ]
    },
    {
     "name": "stderr",
     "output_type": "stream",
     "text": [
      "                                                                                   \r"
     ]
    },
    {
     "name": "stdout",
     "output_type": "stream",
     "text": [
      "Finish compute distance: 41.991233825683594\n",
      "Begin compute distance between: Daily_all Daily_train\n"
     ]
    },
    {
     "name": "stderr",
     "output_type": "stream",
     "text": [
      "                                                                                   \r"
     ]
    },
    {
     "name": "stdout",
     "output_type": "stream",
     "text": [
      "Finish compute distance: 41.944278717041016\n",
      "Begin compute distance between: Daily_all Daily_test\n"
     ]
    },
    {
     "name": "stderr",
     "output_type": "stream",
     "text": [
      "                                                                                   \r"
     ]
    },
    {
     "name": "stdout",
     "output_type": "stream",
     "text": [
      "Finish compute distance: 42.00612258911133\n",
      "Begin compute distance between: Daily_all Daily_dev\n"
     ]
    },
    {
     "name": "stderr",
     "output_type": "stream",
     "text": [
      "                                                                                   \r"
     ]
    },
    {
     "name": "stdout",
     "output_type": "stream",
     "text": [
      "Finish compute distance: 44.19430160522461\n",
      "Begin compute distance between: Daily_all MELD_all\n"
     ]
    },
    {
     "name": "stderr",
     "output_type": "stream",
     "text": [
      "                                                                                   \r"
     ]
    },
    {
     "name": "stdout",
     "output_type": "stream",
     "text": [
      "Finish compute distance: 65.78384399414062\n",
      "Begin compute distance between: Daily_all MELD_train\n"
     ]
    },
    {
     "name": "stderr",
     "output_type": "stream",
     "text": [
      "                                                                                   \r"
     ]
    },
    {
     "name": "stdout",
     "output_type": "stream",
     "text": [
      "Finish compute distance: 66.51544189453125\n",
      "Begin compute distance between: Daily_all MELD_test\n"
     ]
    },
    {
     "name": "stderr",
     "output_type": "stream",
     "text": [
      "                                                                                   \r"
     ]
    },
    {
     "name": "stdout",
     "output_type": "stream",
     "text": [
      "Finish compute distance: 66.65962982177734\n",
      "Begin compute distance between: Daily_all MELD_dev\n"
     ]
    },
    {
     "name": "stderr",
     "output_type": "stream",
     "text": [
      "                                                                                   \r"
     ]
    },
    {
     "name": "stdout",
     "output_type": "stream",
     "text": [
      "Finish compute distance: 68.56568145751953\n",
      "Begin compute distance between: Daily_train IEMOCAP_all\n"
     ]
    },
    {
     "name": "stderr",
     "output_type": "stream",
     "text": [
      "                                                                                   \r"
     ]
    },
    {
     "name": "stdout",
     "output_type": "stream",
     "text": [
      "Finish compute distance: 54.26800537109375\n",
      "Begin compute distance between: Daily_train IEMOCAP_train\n"
     ]
    },
    {
     "name": "stderr",
     "output_type": "stream",
     "text": [
      "                                                                                   \r"
     ]
    },
    {
     "name": "stdout",
     "output_type": "stream",
     "text": [
      "Finish compute distance: 54.300270080566406\n",
      "Begin compute distance between: Daily_train IEMOCAP_test\n"
     ]
    },
    {
     "name": "stderr",
     "output_type": "stream",
     "text": [
      "                                                                                   \r"
     ]
    },
    {
     "name": "stdout",
     "output_type": "stream",
     "text": [
      "Finish compute distance: 55.4661750793457\n",
      "Begin compute distance between: Daily_train IEMOCAP_dev\n"
     ]
    },
    {
     "name": "stderr",
     "output_type": "stream",
     "text": [
      "                                                                                   \r"
     ]
    },
    {
     "name": "stdout",
     "output_type": "stream",
     "text": [
      "Finish compute distance: 56.64705276489258\n",
      "Begin compute distance between: Daily_train Daily_all\n"
     ]
    },
    {
     "name": "stderr",
     "output_type": "stream",
     "text": [
      "                                                                                   \r"
     ]
    },
    {
     "name": "stdout",
     "output_type": "stream",
     "text": [
      "Finish compute distance: 42.01129150390625\n",
      "Begin compute distance between: Daily_train Daily_train\n"
     ]
    },
    {
     "name": "stderr",
     "output_type": "stream",
     "text": [
      "                                                                                   \r"
     ]
    },
    {
     "name": "stdout",
     "output_type": "stream",
     "text": [
      "Finish compute distance: 42.534812927246094\n",
      "Begin compute distance between: Daily_train Daily_test\n"
     ]
    },
    {
     "name": "stderr",
     "output_type": "stream",
     "text": [
      "                                                                                   \r"
     ]
    },
    {
     "name": "stdout",
     "output_type": "stream",
     "text": [
      "Finish compute distance: 44.176658630371094\n",
      "Begin compute distance between: Daily_train Daily_dev\n"
     ]
    },
    {
     "name": "stderr",
     "output_type": "stream",
     "text": [
      "                                                                                   \r"
     ]
    },
    {
     "name": "stdout",
     "output_type": "stream",
     "text": [
      "Finish compute distance: 42.784934997558594\n",
      "Begin compute distance between: Daily_train MELD_all\n"
     ]
    },
    {
     "name": "stderr",
     "output_type": "stream",
     "text": [
      "                                                                                   \r"
     ]
    },
    {
     "name": "stdout",
     "output_type": "stream",
     "text": [
      "Finish compute distance: 65.44706726074219\n",
      "Begin compute distance between: Daily_train MELD_train\n"
     ]
    },
    {
     "name": "stderr",
     "output_type": "stream",
     "text": [
      "                                                                                   \r"
     ]
    },
    {
     "name": "stdout",
     "output_type": "stream",
     "text": [
      "Finish compute distance: 65.26641082763672\n",
      "Begin compute distance between: Daily_train MELD_test\n"
     ]
    },
    {
     "name": "stderr",
     "output_type": "stream",
     "text": [
      "                                                                                   \r"
     ]
    },
    {
     "name": "stdout",
     "output_type": "stream",
     "text": [
      "Finish compute distance: 66.1310806274414\n",
      "Begin compute distance between: Daily_train MELD_dev\n"
     ]
    },
    {
     "name": "stderr",
     "output_type": "stream",
     "text": [
      "                                                                                   \r"
     ]
    },
    {
     "name": "stdout",
     "output_type": "stream",
     "text": [
      "Finish compute distance: 68.20162963867188\n",
      "Begin compute distance between: Daily_test IEMOCAP_all\n"
     ]
    },
    {
     "name": "stderr",
     "output_type": "stream",
     "text": [
      "                                                                                   \r"
     ]
    },
    {
     "name": "stdout",
     "output_type": "stream",
     "text": [
      "Finish compute distance: 54.177825927734375\n",
      "Begin compute distance between: Daily_test IEMOCAP_train\n"
     ]
    },
    {
     "name": "stderr",
     "output_type": "stream",
     "text": [
      "                                                                                   \r"
     ]
    },
    {
     "name": "stdout",
     "output_type": "stream",
     "text": [
      "Finish compute distance: 54.330116271972656\n",
      "Begin compute distance between: Daily_test IEMOCAP_test\n"
     ]
    },
    {
     "name": "stderr",
     "output_type": "stream",
     "text": [
      "                                                                                   \r"
     ]
    },
    {
     "name": "stdout",
     "output_type": "stream",
     "text": [
      "Finish compute distance: 55.62506103515625\n",
      "Begin compute distance between: Daily_test IEMOCAP_dev\n"
     ]
    },
    {
     "name": "stderr",
     "output_type": "stream",
     "text": [
      "                                                                                   \r"
     ]
    },
    {
     "name": "stdout",
     "output_type": "stream",
     "text": [
      "Finish compute distance: 56.33238220214844\n",
      "Begin compute distance between: Daily_test Daily_all\n"
     ]
    },
    {
     "name": "stderr",
     "output_type": "stream",
     "text": [
      "                                                                                   \r"
     ]
    },
    {
     "name": "stdout",
     "output_type": "stream",
     "text": [
      "Finish compute distance: 42.04505920410156\n",
      "Begin compute distance between: Daily_test Daily_train\n"
     ]
    },
    {
     "name": "stderr",
     "output_type": "stream",
     "text": [
      "                                                                                   \r"
     ]
    },
    {
     "name": "stdout",
     "output_type": "stream",
     "text": [
      "Finish compute distance: 42.52312088012695\n",
      "Begin compute distance between: Daily_test Daily_test\n"
     ]
    },
    {
     "name": "stderr",
     "output_type": "stream",
     "text": [
      "                                                                                   \r"
     ]
    },
    {
     "name": "stdout",
     "output_type": "stream",
     "text": [
      "Finish compute distance: 37.91655349731445\n",
      "Begin compute distance between: Daily_test Daily_dev\n"
     ]
    },
    {
     "name": "stderr",
     "output_type": "stream",
     "text": [
      "                                                                                   \r"
     ]
    },
    {
     "name": "stdout",
     "output_type": "stream",
     "text": [
      "Finish compute distance: 44.842506408691406\n",
      "Begin compute distance between: Daily_test MELD_all\n"
     ]
    },
    {
     "name": "stderr",
     "output_type": "stream",
     "text": [
      "                                                                                   \r"
     ]
    },
    {
     "name": "stdout",
     "output_type": "stream",
     "text": [
      "Finish compute distance: 66.75165557861328\n",
      "Begin compute distance between: Daily_test MELD_train\n"
     ]
    },
    {
     "name": "stderr",
     "output_type": "stream",
     "text": [
      "                                                                                   \r"
     ]
    },
    {
     "name": "stdout",
     "output_type": "stream",
     "text": [
      "Finish compute distance: 65.56709289550781\n",
      "Begin compute distance between: Daily_test MELD_test\n"
     ]
    },
    {
     "name": "stderr",
     "output_type": "stream",
     "text": [
      "                                                                                   \r"
     ]
    },
    {
     "name": "stdout",
     "output_type": "stream",
     "text": [
      "Finish compute distance: 67.26155853271484\n",
      "Begin compute distance between: Daily_test MELD_dev\n"
     ]
    },
    {
     "name": "stderr",
     "output_type": "stream",
     "text": [
      "                                                                                   \r"
     ]
    },
    {
     "name": "stdout",
     "output_type": "stream",
     "text": [
      "Finish compute distance: 68.07735443115234\n",
      "Begin compute distance between: Daily_dev IEMOCAP_all\n"
     ]
    },
    {
     "name": "stderr",
     "output_type": "stream",
     "text": [
      "                                                                                   \r"
     ]
    },
    {
     "name": "stdout",
     "output_type": "stream",
     "text": [
      "Finish compute distance: 57.94841003417969\n",
      "Begin compute distance between: Daily_dev IEMOCAP_train\n"
     ]
    },
    {
     "name": "stderr",
     "output_type": "stream",
     "text": [
      "                                                                                   \r"
     ]
    },
    {
     "name": "stdout",
     "output_type": "stream",
     "text": [
      "Finish compute distance: 57.04241180419922\n",
      "Begin compute distance between: Daily_dev IEMOCAP_test\n"
     ]
    },
    {
     "name": "stderr",
     "output_type": "stream",
     "text": [
      "                                                                                   \r"
     ]
    },
    {
     "name": "stdout",
     "output_type": "stream",
     "text": [
      "Finish compute distance: 58.49846649169922\n",
      "Begin compute distance between: Daily_dev IEMOCAP_dev\n"
     ]
    },
    {
     "name": "stderr",
     "output_type": "stream",
     "text": [
      "                                                                                   \r"
     ]
    },
    {
     "name": "stdout",
     "output_type": "stream",
     "text": [
      "Finish compute distance: 58.349151611328125\n",
      "Begin compute distance between: Daily_dev Daily_all\n"
     ]
    },
    {
     "name": "stderr",
     "output_type": "stream",
     "text": [
      "                                                                                   \r"
     ]
    },
    {
     "name": "stdout",
     "output_type": "stream",
     "text": [
      "Finish compute distance: 43.60084533691406\n",
      "Begin compute distance between: Daily_dev Daily_train\n"
     ]
    },
    {
     "name": "stderr",
     "output_type": "stream",
     "text": [
      "                                                                                   \r"
     ]
    },
    {
     "name": "stdout",
     "output_type": "stream",
     "text": [
      "Finish compute distance: 43.93701934814453\n",
      "Begin compute distance between: Daily_dev Daily_test\n"
     ]
    },
    {
     "name": "stderr",
     "output_type": "stream",
     "text": [
      "                                                                                   \r"
     ]
    },
    {
     "name": "stdout",
     "output_type": "stream",
     "text": [
      "Finish compute distance: 44.172306060791016\n",
      "Begin compute distance between: Daily_dev Daily_dev\n"
     ]
    },
    {
     "name": "stderr",
     "output_type": "stream",
     "text": [
      "                                                                                   \r"
     ]
    },
    {
     "name": "stdout",
     "output_type": "stream",
     "text": [
      "Finish compute distance: 37.097049713134766\n",
      "Begin compute distance between: Daily_dev MELD_all\n"
     ]
    },
    {
     "name": "stderr",
     "output_type": "stream",
     "text": [
      "                                                                                   \r"
     ]
    },
    {
     "name": "stdout",
     "output_type": "stream",
     "text": [
      "Finish compute distance: 70.14190673828125\n",
      "Begin compute distance between: Daily_dev MELD_train\n"
     ]
    },
    {
     "name": "stderr",
     "output_type": "stream",
     "text": [
      "                                                                                   \r"
     ]
    },
    {
     "name": "stdout",
     "output_type": "stream",
     "text": [
      "Finish compute distance: 68.26432800292969\n",
      "Begin compute distance between: Daily_dev MELD_test\n"
     ]
    },
    {
     "name": "stderr",
     "output_type": "stream",
     "text": [
      "                                                                                   \r"
     ]
    },
    {
     "name": "stdout",
     "output_type": "stream",
     "text": [
      "Finish compute distance: 70.23365783691406\n",
      "Begin compute distance between: Daily_dev MELD_dev\n"
     ]
    },
    {
     "name": "stderr",
     "output_type": "stream",
     "text": [
      "                                                                                   \r"
     ]
    },
    {
     "name": "stdout",
     "output_type": "stream",
     "text": [
      "Finish compute distance: 71.98931884765625\n",
      "Begin compute distance between: MELD_all IEMOCAP_all\n"
     ]
    },
    {
     "name": "stderr",
     "output_type": "stream",
     "text": [
      "                                                                                   \r"
     ]
    },
    {
     "name": "stdout",
     "output_type": "stream",
     "text": [
      "Finish compute distance: 62.13311767578125\n",
      "Begin compute distance between: MELD_all IEMOCAP_train\n"
     ]
    },
    {
     "name": "stderr",
     "output_type": "stream",
     "text": [
      "                                                                                   \r"
     ]
    },
    {
     "name": "stdout",
     "output_type": "stream",
     "text": [
      "Finish compute distance: 61.941646575927734\n",
      "Begin compute distance between: MELD_all IEMOCAP_test\n"
     ]
    },
    {
     "name": "stderr",
     "output_type": "stream",
     "text": [
      "                                                                                   \r"
     ]
    },
    {
     "name": "stdout",
     "output_type": "stream",
     "text": [
      "Finish compute distance: 62.214237213134766\n",
      "Begin compute distance between: MELD_all IEMOCAP_dev\n"
     ]
    },
    {
     "name": "stderr",
     "output_type": "stream",
     "text": [
      "                                                                                   \r"
     ]
    },
    {
     "name": "stdout",
     "output_type": "stream",
     "text": [
      "Finish compute distance: 64.28229522705078\n",
      "Begin compute distance between: MELD_all Daily_all\n"
     ]
    },
    {
     "name": "stderr",
     "output_type": "stream",
     "text": [
      "                                                                                   \r"
     ]
    },
    {
     "name": "stdout",
     "output_type": "stream",
     "text": [
      "Finish compute distance: 66.76748657226562\n",
      "Begin compute distance between: MELD_all Daily_train\n"
     ]
    },
    {
     "name": "stderr",
     "output_type": "stream",
     "text": [
      "                                                                                   \r"
     ]
    },
    {
     "name": "stdout",
     "output_type": "stream",
     "text": [
      "Finish compute distance: 66.13087463378906\n",
      "Begin compute distance between: MELD_all Daily_test\n"
     ]
    },
    {
     "name": "stderr",
     "output_type": "stream",
     "text": [
      "                                                                                   \r"
     ]
    },
    {
     "name": "stdout",
     "output_type": "stream",
     "text": [
      "Finish compute distance: 65.6300048828125\n",
      "Begin compute distance between: MELD_all Daily_dev\n"
     ]
    },
    {
     "name": "stderr",
     "output_type": "stream",
     "text": [
      "                                                                                   \r"
     ]
    },
    {
     "name": "stdout",
     "output_type": "stream",
     "text": [
      "Finish compute distance: 70.58872985839844\n",
      "Begin compute distance between: MELD_all MELD_all\n"
     ]
    },
    {
     "name": "stderr",
     "output_type": "stream",
     "text": [
      "                                                                                   \r"
     ]
    },
    {
     "name": "stdout",
     "output_type": "stream",
     "text": [
      "Finish compute distance: 47.864585876464844\n",
      "Begin compute distance between: MELD_all MELD_train\n"
     ]
    },
    {
     "name": "stderr",
     "output_type": "stream",
     "text": [
      "                                                                                   \r"
     ]
    },
    {
     "name": "stdout",
     "output_type": "stream",
     "text": [
      "Finish compute distance: 47.60680389404297\n",
      "Begin compute distance between: MELD_all MELD_test\n"
     ]
    },
    {
     "name": "stderr",
     "output_type": "stream",
     "text": [
      "                                                                                   \r"
     ]
    },
    {
     "name": "stdout",
     "output_type": "stream",
     "text": [
      "Finish compute distance: 48.146568298339844\n",
      "Begin compute distance between: MELD_all MELD_dev\n"
     ]
    },
    {
     "name": "stderr",
     "output_type": "stream",
     "text": [
      "                                                                                   \r"
     ]
    },
    {
     "name": "stdout",
     "output_type": "stream",
     "text": [
      "Finish compute distance: 49.70771026611328\n",
      "Begin compute distance between: MELD_train IEMOCAP_all\n"
     ]
    },
    {
     "name": "stderr",
     "output_type": "stream",
     "text": [
      "                                                                                   \r"
     ]
    },
    {
     "name": "stdout",
     "output_type": "stream",
     "text": [
      "Finish compute distance: 61.03593444824219\n",
      "Begin compute distance between: MELD_train IEMOCAP_train\n"
     ]
    },
    {
     "name": "stderr",
     "output_type": "stream",
     "text": [
      "                                                                                   \r"
     ]
    },
    {
     "name": "stdout",
     "output_type": "stream",
     "text": [
      "Finish compute distance: 61.71755599975586\n",
      "Begin compute distance between: MELD_train IEMOCAP_test\n"
     ]
    },
    {
     "name": "stderr",
     "output_type": "stream",
     "text": [
      "                                                                                   \r"
     ]
    },
    {
     "name": "stdout",
     "output_type": "stream",
     "text": [
      "Finish compute distance: 62.1727294921875\n",
      "Begin compute distance between: MELD_train IEMOCAP_dev\n"
     ]
    },
    {
     "name": "stderr",
     "output_type": "stream",
     "text": [
      "                                                                                   \r"
     ]
    },
    {
     "name": "stdout",
     "output_type": "stream",
     "text": [
      "Finish compute distance: 64.03404998779297\n",
      "Begin compute distance between: MELD_train Daily_all\n"
     ]
    },
    {
     "name": "stderr",
     "output_type": "stream",
     "text": [
      "                                                                                   \r"
     ]
    },
    {
     "name": "stdout",
     "output_type": "stream",
     "text": [
      "Finish compute distance: 65.78988647460938\n",
      "Begin compute distance between: MELD_train Daily_train\n"
     ]
    },
    {
     "name": "stderr",
     "output_type": "stream",
     "text": [
      "                                                                                   \r"
     ]
    },
    {
     "name": "stdout",
     "output_type": "stream",
     "text": [
      "Finish compute distance: 65.37735748291016\n",
      "Begin compute distance between: MELD_train Daily_test\n"
     ]
    },
    {
     "name": "stderr",
     "output_type": "stream",
     "text": [
      "                                                                                   \r"
     ]
    },
    {
     "name": "stdout",
     "output_type": "stream",
     "text": [
      "Finish compute distance: 66.71888732910156\n",
      "Begin compute distance between: MELD_train Daily_dev\n"
     ]
    },
    {
     "name": "stderr",
     "output_type": "stream",
     "text": [
      "                                                                                   \r"
     ]
    },
    {
     "name": "stdout",
     "output_type": "stream",
     "text": [
      "Finish compute distance: 69.67106628417969\n",
      "Begin compute distance between: MELD_train MELD_all\n"
     ]
    },
    {
     "name": "stderr",
     "output_type": "stream",
     "text": [
      "                                                                                   \r"
     ]
    },
    {
     "name": "stdout",
     "output_type": "stream",
     "text": [
      "Finish compute distance: 47.73872375488281\n",
      "Begin compute distance between: MELD_train MELD_train\n"
     ]
    },
    {
     "name": "stderr",
     "output_type": "stream",
     "text": [
      "                                                                                   \r"
     ]
    },
    {
     "name": "stdout",
     "output_type": "stream",
     "text": [
      "Finish compute distance: 47.12215805053711\n",
      "Begin compute distance between: MELD_train MELD_test\n"
     ]
    },
    {
     "name": "stderr",
     "output_type": "stream",
     "text": [
      "                                                                                   \r"
     ]
    },
    {
     "name": "stdout",
     "output_type": "stream",
     "text": [
      "Finish compute distance: 50.95806121826172\n",
      "Begin compute distance between: MELD_train MELD_dev\n"
     ]
    },
    {
     "name": "stderr",
     "output_type": "stream",
     "text": [
      "                                                                                   \r"
     ]
    },
    {
     "name": "stdout",
     "output_type": "stream",
     "text": [
      "Finish compute distance: 52.524208068847656\n",
      "Begin compute distance between: MELD_test IEMOCAP_all\n"
     ]
    },
    {
     "name": "stderr",
     "output_type": "stream",
     "text": [
      "                                                                                   \r"
     ]
    },
    {
     "name": "stdout",
     "output_type": "stream",
     "text": [
      "Finish compute distance: 62.44560241699219\n",
      "Begin compute distance between: MELD_test IEMOCAP_train\n"
     ]
    },
    {
     "name": "stderr",
     "output_type": "stream",
     "text": [
      "                                                                                   \r"
     ]
    },
    {
     "name": "stdout",
     "output_type": "stream",
     "text": [
      "Finish compute distance: 62.289676666259766\n",
      "Begin compute distance between: MELD_test IEMOCAP_test\n"
     ]
    },
    {
     "name": "stderr",
     "output_type": "stream",
     "text": [
      "                                                                                   \r"
     ]
    },
    {
     "name": "stdout",
     "output_type": "stream",
     "text": [
      "Finish compute distance: 62.34843444824219\n",
      "Begin compute distance between: MELD_test IEMOCAP_dev\n"
     ]
    },
    {
     "name": "stderr",
     "output_type": "stream",
     "text": [
      "                                                                                   \r"
     ]
    },
    {
     "name": "stdout",
     "output_type": "stream",
     "text": [
      "Finish compute distance: 64.92924499511719\n",
      "Begin compute distance between: MELD_test Daily_all\n"
     ]
    },
    {
     "name": "stderr",
     "output_type": "stream",
     "text": [
      "                                                                                   \r"
     ]
    },
    {
     "name": "stdout",
     "output_type": "stream",
     "text": [
      "Finish compute distance: 67.23107147216797\n",
      "Begin compute distance between: MELD_test Daily_train\n"
     ]
    },
    {
     "name": "stderr",
     "output_type": "stream",
     "text": [
      "                                                                                   \r"
     ]
    },
    {
     "name": "stdout",
     "output_type": "stream",
     "text": [
      "Finish compute distance: 66.09120178222656\n",
      "Begin compute distance between: MELD_test Daily_test\n"
     ]
    },
    {
     "name": "stderr",
     "output_type": "stream",
     "text": [
      "                                                                                   \r"
     ]
    },
    {
     "name": "stdout",
     "output_type": "stream",
     "text": [
      "Finish compute distance: 65.99702453613281\n",
      "Begin compute distance between: MELD_test Daily_dev\n"
     ]
    },
    {
     "name": "stderr",
     "output_type": "stream",
     "text": [
      "                                                                                   \r"
     ]
    },
    {
     "name": "stdout",
     "output_type": "stream",
     "text": [
      "Finish compute distance: 70.40625762939453\n",
      "Begin compute distance between: MELD_test MELD_all\n"
     ]
    },
    {
     "name": "stderr",
     "output_type": "stream",
     "text": [
      "                                                                                   \r"
     ]
    },
    {
     "name": "stdout",
     "output_type": "stream",
     "text": [
      "Finish compute distance: 48.66244888305664\n",
      "Begin compute distance between: MELD_test MELD_train\n"
     ]
    },
    {
     "name": "stderr",
     "output_type": "stream",
     "text": [
      "                                                                                   \r"
     ]
    },
    {
     "name": "stdout",
     "output_type": "stream",
     "text": [
      "Finish compute distance: 51.521026611328125\n",
      "Begin compute distance between: MELD_test MELD_test\n"
     ]
    },
    {
     "name": "stderr",
     "output_type": "stream",
     "text": [
      "                                                                                   \r"
     ]
    },
    {
     "name": "stdout",
     "output_type": "stream",
     "text": [
      "Finish compute distance: 34.979896545410156\n",
      "Begin compute distance between: MELD_test MELD_dev\n"
     ]
    },
    {
     "name": "stderr",
     "output_type": "stream",
     "text": [
      "                                                                                   \r"
     ]
    },
    {
     "name": "stdout",
     "output_type": "stream",
     "text": [
      "Finish compute distance: 52.554962158203125\n",
      "Begin compute distance between: MELD_dev IEMOCAP_all\n"
     ]
    },
    {
     "name": "stderr",
     "output_type": "stream",
     "text": [
      "                                                                                   \r"
     ]
    },
    {
     "name": "stdout",
     "output_type": "stream",
     "text": [
      "Finish compute distance: 63.61573791503906\n",
      "Begin compute distance between: MELD_dev IEMOCAP_train\n"
     ]
    },
    {
     "name": "stderr",
     "output_type": "stream",
     "text": [
      "                                                                                   \r"
     ]
    },
    {
     "name": "stdout",
     "output_type": "stream",
     "text": [
      "Finish compute distance: 63.2899169921875\n",
      "Begin compute distance between: MELD_dev IEMOCAP_test\n"
     ]
    },
    {
     "name": "stderr",
     "output_type": "stream",
     "text": [
      "                                                                                   \r"
     ]
    },
    {
     "name": "stdout",
     "output_type": "stream",
     "text": [
      "Finish compute distance: 64.02838134765625\n",
      "Begin compute distance between: MELD_dev IEMOCAP_dev\n"
     ]
    },
    {
     "name": "stderr",
     "output_type": "stream",
     "text": [
      "                                                                                   \r"
     ]
    },
    {
     "name": "stdout",
     "output_type": "stream",
     "text": [
      "Finish compute distance: 65.47979736328125\n",
      "Begin compute distance between: MELD_dev Daily_all\n"
     ]
    },
    {
     "name": "stderr",
     "output_type": "stream",
     "text": [
      "                                                                                   \r"
     ]
    },
    {
     "name": "stdout",
     "output_type": "stream",
     "text": [
      "Finish compute distance: 68.53167724609375\n",
      "Begin compute distance between: MELD_dev Daily_train\n"
     ]
    },
    {
     "name": "stderr",
     "output_type": "stream",
     "text": [
      "                                                                                   \r"
     ]
    },
    {
     "name": "stdout",
     "output_type": "stream",
     "text": [
      "Finish compute distance: 67.98707580566406\n",
      "Begin compute distance between: MELD_dev Daily_test\n"
     ]
    },
    {
     "name": "stderr",
     "output_type": "stream",
     "text": [
      "                                                                                   \r"
     ]
    },
    {
     "name": "stdout",
     "output_type": "stream",
     "text": [
      "Finish compute distance: 68.41281127929688\n",
      "Begin compute distance between: MELD_dev Daily_dev\n"
     ]
    },
    {
     "name": "stderr",
     "output_type": "stream",
     "text": [
      "                                                                                   \r"
     ]
    },
    {
     "name": "stdout",
     "output_type": "stream",
     "text": [
      "Finish compute distance: 72.68603515625\n",
      "Begin compute distance between: MELD_dev MELD_all\n"
     ]
    },
    {
     "name": "stderr",
     "output_type": "stream",
     "text": [
      "                                                                                   \r"
     ]
    },
    {
     "name": "stdout",
     "output_type": "stream",
     "text": [
      "Finish compute distance: 49.16990280151367\n",
      "Begin compute distance between: MELD_dev MELD_train\n"
     ]
    },
    {
     "name": "stderr",
     "output_type": "stream",
     "text": [
      "                                                                                   \r"
     ]
    },
    {
     "name": "stdout",
     "output_type": "stream",
     "text": [
      "Finish compute distance: 52.553611755371094\n",
      "Begin compute distance between: MELD_dev MELD_test\n"
     ]
    },
    {
     "name": "stderr",
     "output_type": "stream",
     "text": [
      "                                                                                   \r"
     ]
    },
    {
     "name": "stdout",
     "output_type": "stream",
     "text": [
      "Finish compute distance: 52.57832717895508\n",
      "Begin compute distance between: MELD_dev MELD_dev\n"
     ]
    },
    {
     "name": "stderr",
     "output_type": "stream",
     "text": [
      "                                                                                   \r"
     ]
    },
    {
     "name": "stdout",
     "output_type": "stream",
     "text": [
      "Finish compute distance: 14.363107681274414\n",
      "Begin to saving\n"
     ]
    }
   ],
   "source": [
    "import os\n",
    "os.environ['CUDA_PATH'] = '/usr/local/cuda-11'\n",
    "print(\"Create the dataset\")\n",
    "dict_myDS = {}\n",
    "for i in rs.keys():\n",
    "    dict_myDS[i] = my_DataSet(rs[i])\n",
    "    print(i, len(dict_myDS[i]), dict_myDS[i].data.shape, dict_myDS[i].targets.shape)\n",
    "\n",
    "print(\"Begin compute the distance\")\n",
    "mapping_dict = dict(zip(range(len(dict_myDS)), list(dict_myDS.keys())))\n",
    "m_matrix = np.zeros([len(mapping_dict), len(mapping_dict)])\n",
    "for i in mapping_dict.keys():\n",
    "    for j in mapping_dict.keys():\n",
    "        print(\"Begin compute distance between:\", mapping_dict[i], mapping_dict[j])\n",
    "        D_i = dict_myDS[mapping_dict[i]]\n",
    "        D_j = dict_myDS[mapping_dict[j]]\n",
    "        dist = DatasetDistance(D_i, D_j,\n",
    "                                   inner_ot_method = 'gaussian_approx',#gaussian_approx\n",
    "                                   debiased_loss = True,\n",
    "                                   p = 2, entreg = 1e-1,\n",
    "                                   min_labelcount=1,\n",
    "                                   device='cpu') ## error device!!\n",
    "        \n",
    "        d = dist.distance(maxsamples = 1000)\n",
    "        m_matrix[i,j]  = d.item()\n",
    "        print(\"Finish compute distance:\", m_matrix[i,j])\n",
    "print(\"Begin to saving\")\n",
    "\n",
    "distance = pd.DataFrame(m_matrix, columns=mapping_dict.values(), index=mapping_dict.values())\n",
    "rs_glove_embedding_OTDD = {'df': distance, 'idx': mapping_dict, 'matrix':m_matrix}\n",
    "pd.to_pickle(rs_glove_embedding_OTDD, \"data/result/rs_BERT_AVG_OTDD.pkl\")"
   ]
  },
  {
   "cell_type": "code",
   "execution_count": 9,
   "id": "acb04d14-4235-4473-a4f5-5de05c44b034",
   "metadata": {},
   "outputs": [
    {
     "data": {
      "text/html": [
       "<div>\n",
       "<style scoped>\n",
       "    .dataframe tbody tr th:only-of-type {\n",
       "        vertical-align: middle;\n",
       "    }\n",
       "\n",
       "    .dataframe tbody tr th {\n",
       "        vertical-align: top;\n",
       "    }\n",
       "\n",
       "    .dataframe thead th {\n",
       "        text-align: right;\n",
       "    }\n",
       "</style>\n",
       "<table border=\"1\" class=\"dataframe\">\n",
       "  <thead>\n",
       "    <tr style=\"text-align: right;\">\n",
       "      <th></th>\n",
       "      <th>IEMOCAP_train</th>\n",
       "      <th>IEMOCAP_test</th>\n",
       "      <th>IEMOCAP_dev</th>\n",
       "      <th>IEMOCAP_all</th>\n",
       "      <th>Daily_train</th>\n",
       "      <th>Daily_test</th>\n",
       "      <th>Daily_dev</th>\n",
       "      <th>Daily_all</th>\n",
       "      <th>MELD_train</th>\n",
       "      <th>MELD_test</th>\n",
       "      <th>MELD_dev</th>\n",
       "      <th>MELD_all</th>\n",
       "    </tr>\n",
       "  </thead>\n",
       "  <tbody>\n",
       "    <tr>\n",
       "      <th>IEMOCAP_train</th>\n",
       "      <td>32.277931</td>\n",
       "      <td>40.894196</td>\n",
       "      <td>43.170723</td>\n",
       "      <td>34.578705</td>\n",
       "      <td>54.217453</td>\n",
       "      <td>54.420845</td>\n",
       "      <td>58.740479</td>\n",
       "      <td>53.878090</td>\n",
       "      <td>61.946701</td>\n",
       "      <td>61.858204</td>\n",
       "      <td>63.981796</td>\n",
       "      <td>61.437073</td>\n",
       "    </tr>\n",
       "    <tr>\n",
       "      <th>IEMOCAP_test</th>\n",
       "      <td>40.220375</td>\n",
       "      <td>18.538488</td>\n",
       "      <td>43.048248</td>\n",
       "      <td>35.083717</td>\n",
       "      <td>55.913681</td>\n",
       "      <td>55.968994</td>\n",
       "      <td>59.536686</td>\n",
       "      <td>55.004307</td>\n",
       "      <td>62.242676</td>\n",
       "      <td>62.931885</td>\n",
       "      <td>63.578438</td>\n",
       "      <td>61.528900</td>\n",
       "    </tr>\n",
       "    <tr>\n",
       "      <th>IEMOCAP_dev</th>\n",
       "      <td>43.122246</td>\n",
       "      <td>43.090126</td>\n",
       "      <td>3.673385</td>\n",
       "      <td>39.162689</td>\n",
       "      <td>56.453671</td>\n",
       "      <td>57.902344</td>\n",
       "      <td>58.500748</td>\n",
       "      <td>56.267296</td>\n",
       "      <td>63.867805</td>\n",
       "      <td>64.774277</td>\n",
       "      <td>65.754547</td>\n",
       "      <td>63.758999</td>\n",
       "    </tr>\n",
       "    <tr>\n",
       "      <th>IEMOCAP_all</th>\n",
       "      <td>33.692795</td>\n",
       "      <td>36.011444</td>\n",
       "      <td>39.022572</td>\n",
       "      <td>33.969486</td>\n",
       "      <td>54.167572</td>\n",
       "      <td>54.684887</td>\n",
       "      <td>58.195526</td>\n",
       "      <td>54.747955</td>\n",
       "      <td>61.561352</td>\n",
       "      <td>62.014416</td>\n",
       "      <td>63.264862</td>\n",
       "      <td>62.183739</td>\n",
       "    </tr>\n",
       "    <tr>\n",
       "      <th>Daily_train</th>\n",
       "      <td>54.300270</td>\n",
       "      <td>55.466175</td>\n",
       "      <td>56.647053</td>\n",
       "      <td>54.268005</td>\n",
       "      <td>42.534813</td>\n",
       "      <td>44.176659</td>\n",
       "      <td>42.784935</td>\n",
       "      <td>42.011292</td>\n",
       "      <td>65.266411</td>\n",
       "      <td>66.131081</td>\n",
       "      <td>68.201630</td>\n",
       "      <td>65.447067</td>\n",
       "    </tr>\n",
       "    <tr>\n",
       "      <th>Daily_test</th>\n",
       "      <td>54.330116</td>\n",
       "      <td>55.625061</td>\n",
       "      <td>56.332382</td>\n",
       "      <td>54.177826</td>\n",
       "      <td>42.523121</td>\n",
       "      <td>37.916553</td>\n",
       "      <td>44.842506</td>\n",
       "      <td>42.045059</td>\n",
       "      <td>65.567093</td>\n",
       "      <td>67.261559</td>\n",
       "      <td>68.077354</td>\n",
       "      <td>66.751656</td>\n",
       "    </tr>\n",
       "    <tr>\n",
       "      <th>Daily_dev</th>\n",
       "      <td>57.042412</td>\n",
       "      <td>58.498466</td>\n",
       "      <td>58.349152</td>\n",
       "      <td>57.948410</td>\n",
       "      <td>43.937019</td>\n",
       "      <td>44.172306</td>\n",
       "      <td>37.097050</td>\n",
       "      <td>43.600845</td>\n",
       "      <td>68.264328</td>\n",
       "      <td>70.233658</td>\n",
       "      <td>71.989319</td>\n",
       "      <td>70.141907</td>\n",
       "    </tr>\n",
       "    <tr>\n",
       "      <th>Daily_all</th>\n",
       "      <td>54.904907</td>\n",
       "      <td>55.554230</td>\n",
       "      <td>56.422752</td>\n",
       "      <td>53.318398</td>\n",
       "      <td>41.944279</td>\n",
       "      <td>42.006123</td>\n",
       "      <td>44.194302</td>\n",
       "      <td>41.991234</td>\n",
       "      <td>66.515442</td>\n",
       "      <td>66.659630</td>\n",
       "      <td>68.565681</td>\n",
       "      <td>65.783844</td>\n",
       "    </tr>\n",
       "    <tr>\n",
       "      <th>MELD_train</th>\n",
       "      <td>61.717556</td>\n",
       "      <td>62.172729</td>\n",
       "      <td>64.034050</td>\n",
       "      <td>61.035934</td>\n",
       "      <td>65.377357</td>\n",
       "      <td>66.718887</td>\n",
       "      <td>69.671066</td>\n",
       "      <td>65.789886</td>\n",
       "      <td>47.122158</td>\n",
       "      <td>50.958061</td>\n",
       "      <td>52.524208</td>\n",
       "      <td>47.738724</td>\n",
       "    </tr>\n",
       "    <tr>\n",
       "      <th>MELD_test</th>\n",
       "      <td>62.289677</td>\n",
       "      <td>62.348434</td>\n",
       "      <td>64.929245</td>\n",
       "      <td>62.445602</td>\n",
       "      <td>66.091202</td>\n",
       "      <td>65.997025</td>\n",
       "      <td>70.406258</td>\n",
       "      <td>67.231071</td>\n",
       "      <td>51.521027</td>\n",
       "      <td>34.979897</td>\n",
       "      <td>52.554962</td>\n",
       "      <td>48.662449</td>\n",
       "    </tr>\n",
       "    <tr>\n",
       "      <th>MELD_dev</th>\n",
       "      <td>63.289917</td>\n",
       "      <td>64.028381</td>\n",
       "      <td>65.479797</td>\n",
       "      <td>63.615738</td>\n",
       "      <td>67.987076</td>\n",
       "      <td>68.412811</td>\n",
       "      <td>72.686035</td>\n",
       "      <td>68.531677</td>\n",
       "      <td>52.553612</td>\n",
       "      <td>52.578327</td>\n",
       "      <td>14.363108</td>\n",
       "      <td>49.169903</td>\n",
       "    </tr>\n",
       "    <tr>\n",
       "      <th>MELD_all</th>\n",
       "      <td>61.941647</td>\n",
       "      <td>62.214237</td>\n",
       "      <td>64.282295</td>\n",
       "      <td>62.133118</td>\n",
       "      <td>66.130875</td>\n",
       "      <td>65.630005</td>\n",
       "      <td>70.588730</td>\n",
       "      <td>66.767487</td>\n",
       "      <td>47.606804</td>\n",
       "      <td>48.146568</td>\n",
       "      <td>49.707710</td>\n",
       "      <td>47.864586</td>\n",
       "    </tr>\n",
       "  </tbody>\n",
       "</table>\n",
       "</div>"
      ],
      "text/plain": [
       "               IEMOCAP_train  IEMOCAP_test  IEMOCAP_dev  IEMOCAP_all   \n",
       "IEMOCAP_train      32.277931     40.894196    43.170723    34.578705  \\\n",
       "IEMOCAP_test       40.220375     18.538488    43.048248    35.083717   \n",
       "IEMOCAP_dev        43.122246     43.090126     3.673385    39.162689   \n",
       "IEMOCAP_all        33.692795     36.011444    39.022572    33.969486   \n",
       "Daily_train        54.300270     55.466175    56.647053    54.268005   \n",
       "Daily_test         54.330116     55.625061    56.332382    54.177826   \n",
       "Daily_dev          57.042412     58.498466    58.349152    57.948410   \n",
       "Daily_all          54.904907     55.554230    56.422752    53.318398   \n",
       "MELD_train         61.717556     62.172729    64.034050    61.035934   \n",
       "MELD_test          62.289677     62.348434    64.929245    62.445602   \n",
       "MELD_dev           63.289917     64.028381    65.479797    63.615738   \n",
       "MELD_all           61.941647     62.214237    64.282295    62.133118   \n",
       "\n",
       "               Daily_train  Daily_test  Daily_dev  Daily_all  MELD_train   \n",
       "IEMOCAP_train    54.217453   54.420845  58.740479  53.878090   61.946701  \\\n",
       "IEMOCAP_test     55.913681   55.968994  59.536686  55.004307   62.242676   \n",
       "IEMOCAP_dev      56.453671   57.902344  58.500748  56.267296   63.867805   \n",
       "IEMOCAP_all      54.167572   54.684887  58.195526  54.747955   61.561352   \n",
       "Daily_train      42.534813   44.176659  42.784935  42.011292   65.266411   \n",
       "Daily_test       42.523121   37.916553  44.842506  42.045059   65.567093   \n",
       "Daily_dev        43.937019   44.172306  37.097050  43.600845   68.264328   \n",
       "Daily_all        41.944279   42.006123  44.194302  41.991234   66.515442   \n",
       "MELD_train       65.377357   66.718887  69.671066  65.789886   47.122158   \n",
       "MELD_test        66.091202   65.997025  70.406258  67.231071   51.521027   \n",
       "MELD_dev         67.987076   68.412811  72.686035  68.531677   52.553612   \n",
       "MELD_all         66.130875   65.630005  70.588730  66.767487   47.606804   \n",
       "\n",
       "               MELD_test   MELD_dev   MELD_all  \n",
       "IEMOCAP_train  61.858204  63.981796  61.437073  \n",
       "IEMOCAP_test   62.931885  63.578438  61.528900  \n",
       "IEMOCAP_dev    64.774277  65.754547  63.758999  \n",
       "IEMOCAP_all    62.014416  63.264862  62.183739  \n",
       "Daily_train    66.131081  68.201630  65.447067  \n",
       "Daily_test     67.261559  68.077354  66.751656  \n",
       "Daily_dev      70.233658  71.989319  70.141907  \n",
       "Daily_all      66.659630  68.565681  65.783844  \n",
       "MELD_train     50.958061  52.524208  47.738724  \n",
       "MELD_test      34.979897  52.554962  48.662449  \n",
       "MELD_dev       52.578327  14.363108  49.169903  \n",
       "MELD_all       48.146568  49.707710  47.864586  "
      ]
     },
     "execution_count": 9,
     "metadata": {},
     "output_type": "execute_result"
    }
   ],
   "source": [
    "columns = [\n",
    "    'IEMOCAP_train',\n",
    "    'IEMOCAP_test',\n",
    "    'IEMOCAP_dev',\n",
    "    'IEMOCAP_all',\n",
    "    'Daily_train',\n",
    "    'Daily_test',\n",
    "    'Daily_dev',\n",
    "    'Daily_all',\n",
    "    'MELD_train',\n",
    "    'MELD_test',\n",
    "    'MELD_dev',\n",
    "    'MELD_all',\n",
    "]\n",
    "distance.loc[columns, columns]"
   ]
  },
  {
   "cell_type": "markdown",
   "id": "e57e52da-d16a-40c4-bf7e-8a55ed2453de",
   "metadata": {},
   "source": [
    "## Create DD topics!\n",
    "- Can move this part to another place later\n"
   ]
  },
  {
   "cell_type": "code",
   "execution_count": 3,
   "id": "4a0013bf-1db7-4abf-9094-c3b7cbf65da6",
   "metadata": {},
   "outputs": [],
   "source": [
    "from preprocessing import preprocessing_raw as pr\n",
    "from preprocessing import preprocessing_token as pt\n",
    "#\n",
    "import sys\n",
    "from sysconf import  conf\n",
    "import pandas as pd, numpy as np, pickle\n",
    "import tensorflow as tf\n",
    "from tensorflow.keras.preprocessing.text import Tokenizer\n",
    "from tensorflow.keras.preprocessing.sequence import pad_sequences\n",
    "import os"
   ]
  },
  {
   "cell_type": "code",
   "execution_count": 4,
   "id": "721bb9ea-7741-401f-af3f-c04df6ab1074",
   "metadata": {},
   "outputs": [],
   "source": [
    "daily_tool = pr.Daily_Dialog_preprocessing()\n",
    "conv_path = os.path.join(conf[\"raw_Daily_Dailog_path\"], \"dialogues_text.txt\")\n",
    "emo_path = os.path.join(conf[\"raw_Daily_Dailog_path\"], \"dialogues_emotion.txt\")\n",
    "act_path = os.path.join(conf[\"raw_Daily_Dailog_path\"], \"dialogues_act.txt\")\n",
    "topic_path = os.path.join(conf[\"raw_Daily_Dailog_path\"], \"dialogues_topic.txt\")\n",
    "data_raw_DD_topic = daily_tool.reading_DD(conv_path, emo_path, act_path, topic_path)\n",
    "############ --- create again to make sure all of the data is have same label\n"
   ]
  },
  {
   "cell_type": "code",
   "execution_count": 5,
   "id": "f291d535-4ecc-468f-87ff-8c044e30459c",
   "metadata": {},
   "outputs": [
    {
     "data": {
      "text/plain": [
       "13118"
      ]
     },
     "execution_count": 5,
     "metadata": {},
     "output_type": "execute_result"
    }
   ],
   "source": [
    "len(data_raw_DD_topic['actions'])"
   ]
  },
  {
   "cell_type": "code",
   "execution_count": 6,
   "id": "13152ca7-6609-4bcd-abb2-e4d796a13061",
   "metadata": {},
   "outputs": [],
   "source": [
    "ll_d = []\n",
    "ll_l = []\n",
    "ll_t = []\n",
    "ll_a = []\n",
    "for i in  range(len(data_raw_DD_topic['conversation'])):\n",
    "    data = data_raw_DD_topic['conversation'][i]\n",
    "    label = data_raw_DD_topic['emotions'][i]\n",
    "    topic = data_raw_DD_topic['topics'][i]\n",
    "    action = data_raw_DD_topic['actions'][i]\n",
    "    if len(data) != len(label): ## cancel this data\n",
    "        continue\n",
    "    ll_d.append(data)\n",
    "    ll_l.append(label)\n",
    "    ll_t.append(topic)\n",
    "    ll_a.append(action)\n",
    "data_raw_DD_topic = {'conversation': ll_d, 'emotions': ll_l, \"actions\":ll_a, \"topics\":ll_t}\n",
    "\n",
    "pd.to_pickle(data_raw_DD_topic, \"data/Daily_topic_raw.pkl\")"
   ]
  },
  {
   "cell_type": "code",
   "execution_count": 7,
   "id": "a1897f0b-7cb0-42f8-9b04-9b5c4c8aebd0",
   "metadata": {},
   "outputs": [
    {
     "name": "stdout",
     "output_type": "stream",
     "text": [
      "Loading GloVe model, this can take some time...\n"
     ]
    }
   ],
   "source": [
    "## create the tokenize\n",
    "tokenizer = Tokenizer()\n",
    "tokenizer.fit_on_texts(pt.flatten_list(data_raw_DD_topic['conversation']))\n",
    "max_num_tokens = 300\n",
    "glove_vector = pt.load_pretrained_glove()\n",
    "##\n",
    "word_vector_length = len(glove_vector['the'])\n",
    "word_index = tokenizer.word_index\n",
    "inv_word_index = {v: k for k, v in word_index.items()}\n",
    "num_unique_words = len(word_index)\n",
    "glv_embedding_matrix = np.zeros((num_unique_words + 1, word_vector_length))\n",
    "for j in range(1, num_unique_words + 1):\n",
    "    try:\n",
    "        glv_embedding_matrix[j] = glove_vector[inv_word_index[j]]\n",
    "    except KeyError:\n",
    "        glv_embedding_matrix[j] = np.random.randn(word_vector_length) / 200"
   ]
  },
  {
   "cell_type": "code",
   "execution_count": 8,
   "id": "5cdd3a03-3b98-4b07-bb59-39776edcf204",
   "metadata": {},
   "outputs": [],
   "source": [
    "data_token = pt.create_data_token(data_raw_DD_topic, tokenizer, max_num_tokens)\n",
    "pd.to_pickle(data_token, \"data/Daily_topic_token.pkl\")"
   ]
  },
  {
   "cell_type": "code",
   "execution_count": 16,
   "id": "33dc6ffc-2eee-4ea6-951e-24f9432b20d7",
   "metadata": {},
   "outputs": [
    {
     "data": {
      "text/plain": [
       "11"
      ]
     },
     "execution_count": 16,
     "metadata": {},
     "output_type": "execute_result"
    }
   ],
   "source": [
    "len(data_token['data_token'][9000])"
   ]
  },
  {
   "cell_type": "code",
   "execution_count": 21,
   "id": "54a7967f-61cf-4d10-b03d-4e462e365224",
   "metadata": {},
   "outputs": [
    {
     "data": {
      "text/plain": [
       "array([[ 614,    9,   55, ...,    0,    0,    0],\n",
       "       [   2, 3789,    2, ...,    0,    0,    0],\n",
       "       [  18,    9,   34, ...,    0,    0,    0],\n",
       "       ...,\n",
       "       [ 101,  142,   62, ...,    0,    0,    0],\n",
       "       [ 198,   27,   83, ...,    0,    0,    0],\n",
       "       [ 104,   25,    1, ...,    0,    0,    0]], dtype=int32)"
      ]
     },
     "execution_count": 21,
     "metadata": {},
     "output_type": "execute_result"
    }
   ],
   "source": [
    "i"
   ]
  },
  {
   "cell_type": "code",
   "execution_count": 32,
   "id": "99c54817-f1f3-4390-98a0-0000a7e9a112",
   "metadata": {},
   "outputs": [],
   "source": [
    "#-----------\n",
    "ll = []\n",
    "ll_e = []\n",
    "ll_t = []\n",
    "rs = {}\n",
    "vocab_size, e_dim = glv_embedding_matrix.shape\n",
    "embedding = nn.Embedding(vocab_size,e_dim)\n",
    "embedding.weight = nn.Parameter(torch.from_numpy(glv_embedding_matrix).float())\n",
    "for idx,i in  enumerate(data_token['data_token']):\n",
    "    if len(i) >= 9:\n",
    "        ll.append(embedding(torch.tensor(i, dtype=int)).sum(axis=1))\n",
    "        ll_e.append(data_token[\"emotions\"][idx])\n",
    "        ll_t.append(data_token[\"topics\"][idx])\n",
    "rs[\"data\"] = ll\n",
    "rs[\"emotion\"] = ll_e\n",
    "rs[\"topics\"] = ll_t\n",
    "\n",
    "pd.to_pickle(rs, \"data/Glove_embedding_Daily_topic.pkl\")"
   ]
  },
  {
   "cell_type": "code",
   "execution_count": 33,
   "id": "0d8c2e4d-c030-44e2-92fb-2dbe8f576020",
   "metadata": {},
   "outputs": [],
   "source": [
    "a = pd.read_pickle(\"data/Glove_embedding_Daily_topic.pkl\")"
   ]
  },
  {
   "cell_type": "code",
   "execution_count": 34,
   "id": "1ca48ca7-f5cb-4993-a804-00817340e3bb",
   "metadata": {},
   "outputs": [
    {
     "data": {
      "text/plain": [
       "dict_keys(['data', 'emotion', 'topics'])"
      ]
     },
     "execution_count": 34,
     "metadata": {},
     "output_type": "execute_result"
    }
   ],
   "source": [
    "a.keys()"
   ]
  },
  {
   "cell_type": "code",
   "execution_count": 9,
   "id": "23357212-0cb2-43e1-a73a-783559783233",
   "metadata": {},
   "outputs": [],
   "source": [
    "from sklearn import preprocessing\n",
    "class my_DataSet(Dataset):\n",
    "    \"\"\"\n",
    "     This class create my dataset\n",
    "    \"\"\"\n",
    "    def __init__(self, data):\n",
    "        self.data = data[0]\n",
    "        self.clf = preprocessing.LabelEncoder()\n",
    "        self.targets = torch.tensor(self.clf.fit_transform(data[1]), dtype=int)\n",
    "        self.y_raw = data[1] \n",
    "        self.len = len(self.targets)\n",
    "    def __getitem__(self, index):\n",
    "        return self.data[index], self.targets[index]\n",
    "    def __len__(self):\n",
    "        return self.len\n",
    "    def __delitem__(self, key):\n",
    "        self.data = np.delete(self.data, key, axis=0)\n",
    "        self.targets = np.delete(self.targets, key, axis=0)"
   ]
  },
  {
   "cell_type": "code",
   "execution_count": 171,
   "id": "913e12e6-4bfe-4a33-8dfa-452b11238a85",
   "metadata": {},
   "outputs": [],
   "source": [
    "rs = pd.read_pickle(\"data/Glove_embedding_Daily_topic.pkl\")\n",
    "topic_DS = {}\n",
    "for i in sorted(np.unique(rs[\"topics\"])):\n",
    "    ll_x = []\n",
    "    ll_y = []\n",
    "    for j in rs[\"topics\"]:\n",
    "        data = rs['data'][j]\n",
    "        label = rs['emotion'][j]\n",
    "        ll_x.append(data)\n",
    "        ll_y.append(label)\n",
    "    X = torch.cat(ll_x)\n",
    "    y = torch.tensor(np.concatenate(ll_y), dtype=int)\n",
    "    topic_DS[i] = my_DataSet((X,y))"
   ]
  },
  {
   "cell_type": "code",
   "execution_count": 177,
   "id": "35799e0d-23f3-4de3-b75d-beb158345452",
   "metadata": {},
   "outputs": [
    {
     "name": "stdout",
     "output_type": "stream",
     "text": [
      "Begin compute distance between: 0 0\n"
     ]
    },
    {
     "data": {
      "application/vnd.jupyter.widget-view+json": {
       "model_id": "",
       "version_major": 2,
       "version_minor": 0
      },
      "text/plain": [
       "0it [00:00, ?it/s]"
      ]
     },
     "metadata": {},
     "output_type": "display_data"
    },
    {
     "data": {
      "application/vnd.jupyter.widget-view+json": {
       "model_id": "",
       "version_major": 2,
       "version_minor": 0
      },
      "text/plain": [
       "  0%|          | 0/6 [00:00<?, ?it/s]"
      ]
     },
     "metadata": {},
     "output_type": "display_data"
    },
    {
     "data": {
      "application/vnd.jupyter.widget-view+json": {
       "model_id": "",
       "version_major": 2,
       "version_minor": 0
      },
      "text/plain": [
       "0it [00:00, ?it/s]"
      ]
     },
     "metadata": {},
     "output_type": "display_data"
    },
    {
     "data": {
      "application/vnd.jupyter.widget-view+json": {
       "model_id": "",
       "version_major": 2,
       "version_minor": 0
      },
      "text/plain": [
       "  0%|          | 0/6 [00:00<?, ?it/s]"
      ]
     },
     "metadata": {},
     "output_type": "display_data"
    },
    {
     "data": {
      "application/vnd.jupyter.widget-view+json": {
       "model_id": "",
       "version_major": 2,
       "version_minor": 0
      },
      "text/plain": [
       "  0%|          | 0/16 [00:00<?, ?it/s]"
      ]
     },
     "metadata": {},
     "output_type": "display_data"
    },
    {
     "data": {
      "application/vnd.jupyter.widget-view+json": {
       "model_id": "",
       "version_major": 2,
       "version_minor": 0
      },
      "text/plain": [
       "  0%|          | 0/4 [00:00<?, ?it/s]"
      ]
     },
     "metadata": {},
     "output_type": "display_data"
    },
    {
     "data": {
      "application/vnd.jupyter.widget-view+json": {
       "model_id": "",
       "version_major": 2,
       "version_minor": 0
      },
      "text/plain": [
       "  0%|          | 0/4 [00:00<?, ?it/s]"
      ]
     },
     "metadata": {},
     "output_type": "display_data"
    },
    {
     "name": "stdout",
     "output_type": "stream",
     "text": [
      "Finish compute distance: 25.176715850830078\n",
      "Begin compute distance between: 0 1\n"
     ]
    },
    {
     "data": {
      "application/vnd.jupyter.widget-view+json": {
       "model_id": "",
       "version_major": 2,
       "version_minor": 0
      },
      "text/plain": [
       "0it [00:00, ?it/s]"
      ]
     },
     "metadata": {},
     "output_type": "display_data"
    },
    {
     "data": {
      "application/vnd.jupyter.widget-view+json": {
       "model_id": "",
       "version_major": 2,
       "version_minor": 0
      },
      "text/plain": [
       "  0%|          | 0/6 [00:00<?, ?it/s]"
      ]
     },
     "metadata": {},
     "output_type": "display_data"
    },
    {
     "data": {
      "application/vnd.jupyter.widget-view+json": {
       "model_id": "",
       "version_major": 2,
       "version_minor": 0
      },
      "text/plain": [
       "0it [00:00, ?it/s]"
      ]
     },
     "metadata": {},
     "output_type": "display_data"
    },
    {
     "data": {
      "application/vnd.jupyter.widget-view+json": {
       "model_id": "",
       "version_major": 2,
       "version_minor": 0
      },
      "text/plain": [
       "  0%|          | 0/6 [00:00<?, ?it/s]"
      ]
     },
     "metadata": {},
     "output_type": "display_data"
    },
    {
     "data": {
      "application/vnd.jupyter.widget-view+json": {
       "model_id": "",
       "version_major": 2,
       "version_minor": 0
      },
      "text/plain": [
       "  0%|          | 0/16 [00:00<?, ?it/s]"
      ]
     },
     "metadata": {},
     "output_type": "display_data"
    },
    {
     "data": {
      "application/vnd.jupyter.widget-view+json": {
       "model_id": "",
       "version_major": 2,
       "version_minor": 0
      },
      "text/plain": [
       "  0%|          | 0/4 [00:00<?, ?it/s]"
      ]
     },
     "metadata": {},
     "output_type": "display_data"
    },
    {
     "data": {
      "application/vnd.jupyter.widget-view+json": {
       "model_id": "",
       "version_major": 2,
       "version_minor": 0
      },
      "text/plain": [
       "  0%|          | 0/4 [00:00<?, ?it/s]"
      ]
     },
     "metadata": {},
     "output_type": "display_data"
    },
    {
     "name": "stdout",
     "output_type": "stream",
     "text": [
      "Finish compute distance: 43.17021179199219\n",
      "Begin compute distance between: 0 2\n"
     ]
    },
    {
     "data": {
      "application/vnd.jupyter.widget-view+json": {
       "model_id": "",
       "version_major": 2,
       "version_minor": 0
      },
      "text/plain": [
       "0it [00:00, ?it/s]"
      ]
     },
     "metadata": {},
     "output_type": "display_data"
    },
    {
     "data": {
      "application/vnd.jupyter.widget-view+json": {
       "model_id": "",
       "version_major": 2,
       "version_minor": 0
      },
      "text/plain": [
       "  0%|          | 0/6 [00:00<?, ?it/s]"
      ]
     },
     "metadata": {},
     "output_type": "display_data"
    },
    {
     "data": {
      "application/vnd.jupyter.widget-view+json": {
       "model_id": "",
       "version_major": 2,
       "version_minor": 0
      },
      "text/plain": [
       "0it [00:00, ?it/s]"
      ]
     },
     "metadata": {},
     "output_type": "display_data"
    },
    {
     "data": {
      "application/vnd.jupyter.widget-view+json": {
       "model_id": "",
       "version_major": 2,
       "version_minor": 0
      },
      "text/plain": [
       "  0%|          | 0/6 [00:00<?, ?it/s]"
      ]
     },
     "metadata": {},
     "output_type": "display_data"
    },
    {
     "data": {
      "application/vnd.jupyter.widget-view+json": {
       "model_id": "",
       "version_major": 2,
       "version_minor": 0
      },
      "text/plain": [
       "  0%|          | 0/16 [00:00<?, ?it/s]"
      ]
     },
     "metadata": {},
     "output_type": "display_data"
    },
    {
     "data": {
      "application/vnd.jupyter.widget-view+json": {
       "model_id": "",
       "version_major": 2,
       "version_minor": 0
      },
      "text/plain": [
       "  0%|          | 0/4 [00:00<?, ?it/s]"
      ]
     },
     "metadata": {},
     "output_type": "display_data"
    },
    {
     "data": {
      "application/vnd.jupyter.widget-view+json": {
       "model_id": "",
       "version_major": 2,
       "version_minor": 0
      },
      "text/plain": [
       "  0%|          | 0/4 [00:00<?, ?it/s]"
      ]
     },
     "metadata": {},
     "output_type": "display_data"
    },
    {
     "name": "stdout",
     "output_type": "stream",
     "text": [
      "Finish compute distance: 53.2254638671875\n",
      "Begin compute distance between: 0 3\n"
     ]
    },
    {
     "data": {
      "application/vnd.jupyter.widget-view+json": {
       "model_id": "",
       "version_major": 2,
       "version_minor": 0
      },
      "text/plain": [
       "0it [00:00, ?it/s]"
      ]
     },
     "metadata": {},
     "output_type": "display_data"
    },
    {
     "data": {
      "application/vnd.jupyter.widget-view+json": {
       "model_id": "",
       "version_major": 2,
       "version_minor": 0
      },
      "text/plain": [
       "  0%|          | 0/6 [00:00<?, ?it/s]"
      ]
     },
     "metadata": {},
     "output_type": "display_data"
    },
    {
     "data": {
      "application/vnd.jupyter.widget-view+json": {
       "model_id": "",
       "version_major": 2,
       "version_minor": 0
      },
      "text/plain": [
       "0it [00:00, ?it/s]"
      ]
     },
     "metadata": {},
     "output_type": "display_data"
    },
    {
     "data": {
      "application/vnd.jupyter.widget-view+json": {
       "model_id": "",
       "version_major": 2,
       "version_minor": 0
      },
      "text/plain": [
       "  0%|          | 0/6 [00:00<?, ?it/s]"
      ]
     },
     "metadata": {},
     "output_type": "display_data"
    },
    {
     "data": {
      "application/vnd.jupyter.widget-view+json": {
       "model_id": "",
       "version_major": 2,
       "version_minor": 0
      },
      "text/plain": [
       "  0%|          | 0/16 [00:00<?, ?it/s]"
      ]
     },
     "metadata": {},
     "output_type": "display_data"
    },
    {
     "data": {
      "application/vnd.jupyter.widget-view+json": {
       "model_id": "",
       "version_major": 2,
       "version_minor": 0
      },
      "text/plain": [
       "  0%|          | 0/4 [00:00<?, ?it/s]"
      ]
     },
     "metadata": {},
     "output_type": "display_data"
    },
    {
     "data": {
      "application/vnd.jupyter.widget-view+json": {
       "model_id": "",
       "version_major": 2,
       "version_minor": 0
      },
      "text/plain": [
       "  0%|          | 0/4 [00:00<?, ?it/s]"
      ]
     },
     "metadata": {},
     "output_type": "display_data"
    },
    {
     "name": "stdout",
     "output_type": "stream",
     "text": [
      "Finish compute distance: 34.184539794921875\n",
      "Begin compute distance between: 1 0\n"
     ]
    },
    {
     "data": {
      "application/vnd.jupyter.widget-view+json": {
       "model_id": "",
       "version_major": 2,
       "version_minor": 0
      },
      "text/plain": [
       "0it [00:00, ?it/s]"
      ]
     },
     "metadata": {},
     "output_type": "display_data"
    },
    {
     "data": {
      "application/vnd.jupyter.widget-view+json": {
       "model_id": "",
       "version_major": 2,
       "version_minor": 0
      },
      "text/plain": [
       "  0%|          | 0/6 [00:00<?, ?it/s]"
      ]
     },
     "metadata": {},
     "output_type": "display_data"
    },
    {
     "data": {
      "application/vnd.jupyter.widget-view+json": {
       "model_id": "",
       "version_major": 2,
       "version_minor": 0
      },
      "text/plain": [
       "0it [00:00, ?it/s]"
      ]
     },
     "metadata": {},
     "output_type": "display_data"
    },
    {
     "data": {
      "application/vnd.jupyter.widget-view+json": {
       "model_id": "",
       "version_major": 2,
       "version_minor": 0
      },
      "text/plain": [
       "  0%|          | 0/6 [00:00<?, ?it/s]"
      ]
     },
     "metadata": {},
     "output_type": "display_data"
    },
    {
     "data": {
      "application/vnd.jupyter.widget-view+json": {
       "model_id": "",
       "version_major": 2,
       "version_minor": 0
      },
      "text/plain": [
       "  0%|          | 0/16 [00:00<?, ?it/s]"
      ]
     },
     "metadata": {},
     "output_type": "display_data"
    },
    {
     "data": {
      "application/vnd.jupyter.widget-view+json": {
       "model_id": "",
       "version_major": 2,
       "version_minor": 0
      },
      "text/plain": [
       "  0%|          | 0/4 [00:00<?, ?it/s]"
      ]
     },
     "metadata": {},
     "output_type": "display_data"
    },
    {
     "data": {
      "application/vnd.jupyter.widget-view+json": {
       "model_id": "",
       "version_major": 2,
       "version_minor": 0
      },
      "text/plain": [
       "  0%|          | 0/4 [00:00<?, ?it/s]"
      ]
     },
     "metadata": {},
     "output_type": "display_data"
    },
    {
     "name": "stdout",
     "output_type": "stream",
     "text": [
      "Finish compute distance: 73.9654769897461\n",
      "Begin compute distance between: 1 1\n"
     ]
    },
    {
     "data": {
      "application/vnd.jupyter.widget-view+json": {
       "model_id": "",
       "version_major": 2,
       "version_minor": 0
      },
      "text/plain": [
       "0it [00:00, ?it/s]"
      ]
     },
     "metadata": {},
     "output_type": "display_data"
    },
    {
     "data": {
      "application/vnd.jupyter.widget-view+json": {
       "model_id": "",
       "version_major": 2,
       "version_minor": 0
      },
      "text/plain": [
       "  0%|          | 0/6 [00:00<?, ?it/s]"
      ]
     },
     "metadata": {},
     "output_type": "display_data"
    },
    {
     "data": {
      "application/vnd.jupyter.widget-view+json": {
       "model_id": "",
       "version_major": 2,
       "version_minor": 0
      },
      "text/plain": [
       "0it [00:00, ?it/s]"
      ]
     },
     "metadata": {},
     "output_type": "display_data"
    },
    {
     "data": {
      "application/vnd.jupyter.widget-view+json": {
       "model_id": "",
       "version_major": 2,
       "version_minor": 0
      },
      "text/plain": [
       "  0%|          | 0/6 [00:00<?, ?it/s]"
      ]
     },
     "metadata": {},
     "output_type": "display_data"
    },
    {
     "data": {
      "application/vnd.jupyter.widget-view+json": {
       "model_id": "",
       "version_major": 2,
       "version_minor": 0
      },
      "text/plain": [
       "  0%|          | 0/16 [00:00<?, ?it/s]"
      ]
     },
     "metadata": {},
     "output_type": "display_data"
    },
    {
     "data": {
      "application/vnd.jupyter.widget-view+json": {
       "model_id": "",
       "version_major": 2,
       "version_minor": 0
      },
      "text/plain": [
       "  0%|          | 0/4 [00:00<?, ?it/s]"
      ]
     },
     "metadata": {},
     "output_type": "display_data"
    },
    {
     "data": {
      "application/vnd.jupyter.widget-view+json": {
       "model_id": "",
       "version_major": 2,
       "version_minor": 0
      },
      "text/plain": [
       "  0%|          | 0/4 [00:00<?, ?it/s]"
      ]
     },
     "metadata": {},
     "output_type": "display_data"
    },
    {
     "name": "stdout",
     "output_type": "stream",
     "text": [
      "Finish compute distance: 20.02231216430664\n",
      "Begin compute distance between: 1 2\n"
     ]
    },
    {
     "data": {
      "application/vnd.jupyter.widget-view+json": {
       "model_id": "",
       "version_major": 2,
       "version_minor": 0
      },
      "text/plain": [
       "0it [00:00, ?it/s]"
      ]
     },
     "metadata": {},
     "output_type": "display_data"
    },
    {
     "data": {
      "application/vnd.jupyter.widget-view+json": {
       "model_id": "f632844211b74723a532eb94b6d3b098",
       "version_major": 2,
       "version_minor": 0
      },
      "text/plain": [
       "  0%|          | 0/6 [00:00<?, ?it/s]"
      ]
     },
     "metadata": {},
     "output_type": "display_data"
    },
    {
     "data": {
      "application/vnd.jupyter.widget-view+json": {
       "model_id": "28e97c1f050a45768dbd202655ba4ac4",
       "version_major": 2,
       "version_minor": 0
      },
      "text/plain": [
       "0it [00:00, ?it/s]"
      ]
     },
     "metadata": {},
     "output_type": "display_data"
    },
    {
     "data": {
      "application/vnd.jupyter.widget-view+json": {
       "model_id": "ee9eefe6397d40689e4847d60df6ce5d",
       "version_major": 2,
       "version_minor": 0
      },
      "text/plain": [
       "  0%|          | 0/6 [00:00<?, ?it/s]"
      ]
     },
     "metadata": {},
     "output_type": "display_data"
    },
    {
     "data": {
      "application/vnd.jupyter.widget-view+json": {
       "model_id": "4cdc130a99f74b9c948c2c9751c62fa8",
       "version_major": 2,
       "version_minor": 0
      },
      "text/plain": [
       "  0%|          | 0/16 [00:00<?, ?it/s]"
      ]
     },
     "metadata": {},
     "output_type": "display_data"
    },
    {
     "data": {
      "application/vnd.jupyter.widget-view+json": {
       "model_id": "91d142710b79404ea4434b318d7c98eb",
       "version_major": 2,
       "version_minor": 0
      },
      "text/plain": [
       "  0%|          | 0/4 [00:00<?, ?it/s]"
      ]
     },
     "metadata": {},
     "output_type": "display_data"
    },
    {
     "data": {
      "application/vnd.jupyter.widget-view+json": {
       "model_id": "f7adcbd5feae47c69ceff19cfb1f0f96",
       "version_major": 2,
       "version_minor": 0
      },
      "text/plain": [
       "  0%|          | 0/4 [00:00<?, ?it/s]"
      ]
     },
     "metadata": {},
     "output_type": "display_data"
    },
    {
     "name": "stdout",
     "output_type": "stream",
     "text": [
      "Finish compute distance: 18.22011947631836\n",
      "Begin compute distance between: 1 3\n"
     ]
    },
    {
     "data": {
      "application/vnd.jupyter.widget-view+json": {
       "model_id": "8e557811c3e04eafa956e0dc8d9cbe0f",
       "version_major": 2,
       "version_minor": 0
      },
      "text/plain": [
       "0it [00:00, ?it/s]"
      ]
     },
     "metadata": {},
     "output_type": "display_data"
    },
    {
     "data": {
      "application/vnd.jupyter.widget-view+json": {
       "model_id": "3f125d6cba5047638c83700641f01861",
       "version_major": 2,
       "version_minor": 0
      },
      "text/plain": [
       "  0%|          | 0/6 [00:00<?, ?it/s]"
      ]
     },
     "metadata": {},
     "output_type": "display_data"
    },
    {
     "data": {
      "application/vnd.jupyter.widget-view+json": {
       "model_id": "5208346cf06a41bf86e922b003dd7dc2",
       "version_major": 2,
       "version_minor": 0
      },
      "text/plain": [
       "0it [00:00, ?it/s]"
      ]
     },
     "metadata": {},
     "output_type": "display_data"
    },
    {
     "data": {
      "application/vnd.jupyter.widget-view+json": {
       "model_id": "9bbbbac25a34449db632e8565d2c5e20",
       "version_major": 2,
       "version_minor": 0
      },
      "text/plain": [
       "  0%|          | 0/6 [00:00<?, ?it/s]"
      ]
     },
     "metadata": {},
     "output_type": "display_data"
    },
    {
     "data": {
      "application/vnd.jupyter.widget-view+json": {
       "model_id": "07d7753b33b74bf5ae16122b61efd817",
       "version_major": 2,
       "version_minor": 0
      },
      "text/plain": [
       "  0%|          | 0/16 [00:00<?, ?it/s]"
      ]
     },
     "metadata": {},
     "output_type": "display_data"
    },
    {
     "data": {
      "application/vnd.jupyter.widget-view+json": {
       "model_id": "2c7adcf5af184f73b05bc7ed09a69101",
       "version_major": 2,
       "version_minor": 0
      },
      "text/plain": [
       "  0%|          | 0/4 [00:00<?, ?it/s]"
      ]
     },
     "metadata": {},
     "output_type": "display_data"
    },
    {
     "data": {
      "application/vnd.jupyter.widget-view+json": {
       "model_id": "2e66e873d1c741d6a61514fd824eeb36",
       "version_major": 2,
       "version_minor": 0
      },
      "text/plain": [
       "  0%|          | 0/4 [00:00<?, ?it/s]"
      ]
     },
     "metadata": {},
     "output_type": "display_data"
    },
    {
     "name": "stdout",
     "output_type": "stream",
     "text": [
      "Finish compute distance: 23.618389129638672\n",
      "Begin compute distance between: 2 0\n"
     ]
    },
    {
     "data": {
      "application/vnd.jupyter.widget-view+json": {
       "model_id": "e8ec0049e2dd4b01affabdf784ac43f1",
       "version_major": 2,
       "version_minor": 0
      },
      "text/plain": [
       "0it [00:00, ?it/s]"
      ]
     },
     "metadata": {},
     "output_type": "display_data"
    },
    {
     "data": {
      "application/vnd.jupyter.widget-view+json": {
       "model_id": "8cefafe077074781abb11b3fc13ffbd4",
       "version_major": 2,
       "version_minor": 0
      },
      "text/plain": [
       "  0%|          | 0/6 [00:00<?, ?it/s]"
      ]
     },
     "metadata": {},
     "output_type": "display_data"
    },
    {
     "data": {
      "application/vnd.jupyter.widget-view+json": {
       "model_id": "289cf329d5f444feb4d85c7f774b0320",
       "version_major": 2,
       "version_minor": 0
      },
      "text/plain": [
       "0it [00:00, ?it/s]"
      ]
     },
     "metadata": {},
     "output_type": "display_data"
    },
    {
     "data": {
      "application/vnd.jupyter.widget-view+json": {
       "model_id": "516646892ac34227b4a8337f763ed3ae",
       "version_major": 2,
       "version_minor": 0
      },
      "text/plain": [
       "  0%|          | 0/6 [00:00<?, ?it/s]"
      ]
     },
     "metadata": {},
     "output_type": "display_data"
    },
    {
     "data": {
      "application/vnd.jupyter.widget-view+json": {
       "model_id": "3af6bd732ddb4a9d8d847b8cffa91f21",
       "version_major": 2,
       "version_minor": 0
      },
      "text/plain": [
       "  0%|          | 0/16 [00:00<?, ?it/s]"
      ]
     },
     "metadata": {},
     "output_type": "display_data"
    },
    {
     "data": {
      "application/vnd.jupyter.widget-view+json": {
       "model_id": "b3ac682b379749228d4fa18853d640ae",
       "version_major": 2,
       "version_minor": 0
      },
      "text/plain": [
       "  0%|          | 0/4 [00:00<?, ?it/s]"
      ]
     },
     "metadata": {},
     "output_type": "display_data"
    },
    {
     "data": {
      "application/vnd.jupyter.widget-view+json": {
       "model_id": "fdd129cdbe7f495b8e7fbd5211a176d8",
       "version_major": 2,
       "version_minor": 0
      },
      "text/plain": [
       "  0%|          | 0/4 [00:00<?, ?it/s]"
      ]
     },
     "metadata": {},
     "output_type": "display_data"
    },
    {
     "name": "stdout",
     "output_type": "stream",
     "text": [
      "Finish compute distance: 13.759900093078613\n",
      "Begin compute distance between: 2 1\n"
     ]
    },
    {
     "data": {
      "application/vnd.jupyter.widget-view+json": {
       "model_id": "f1c623f58e8244cb98cfe046d81b2280",
       "version_major": 2,
       "version_minor": 0
      },
      "text/plain": [
       "0it [00:00, ?it/s]"
      ]
     },
     "metadata": {},
     "output_type": "display_data"
    },
    {
     "data": {
      "application/vnd.jupyter.widget-view+json": {
       "model_id": "3d091931a3f343f9a7416717fef19633",
       "version_major": 2,
       "version_minor": 0
      },
      "text/plain": [
       "  0%|          | 0/6 [00:00<?, ?it/s]"
      ]
     },
     "metadata": {},
     "output_type": "display_data"
    },
    {
     "data": {
      "application/vnd.jupyter.widget-view+json": {
       "model_id": "b23fd9fe6930441c8c7d91c2198e1cc3",
       "version_major": 2,
       "version_minor": 0
      },
      "text/plain": [
       "0it [00:00, ?it/s]"
      ]
     },
     "metadata": {},
     "output_type": "display_data"
    },
    {
     "data": {
      "application/vnd.jupyter.widget-view+json": {
       "model_id": "63e1a9a1d991436e852d7aa8b6c0df64",
       "version_major": 2,
       "version_minor": 0
      },
      "text/plain": [
       "  0%|          | 0/6 [00:00<?, ?it/s]"
      ]
     },
     "metadata": {},
     "output_type": "display_data"
    },
    {
     "data": {
      "application/vnd.jupyter.widget-view+json": {
       "model_id": "e568f3aa67c14909b3813f07660836d4",
       "version_major": 2,
       "version_minor": 0
      },
      "text/plain": [
       "  0%|          | 0/16 [00:00<?, ?it/s]"
      ]
     },
     "metadata": {},
     "output_type": "display_data"
    },
    {
     "data": {
      "application/vnd.jupyter.widget-view+json": {
       "model_id": "e23f2c4c62a5469987f309fa07d0d7a8",
       "version_major": 2,
       "version_minor": 0
      },
      "text/plain": [
       "  0%|          | 0/4 [00:00<?, ?it/s]"
      ]
     },
     "metadata": {},
     "output_type": "display_data"
    },
    {
     "data": {
      "application/vnd.jupyter.widget-view+json": {
       "model_id": "29060767c5ff41758f6eac7d07ab0a32",
       "version_major": 2,
       "version_minor": 0
      },
      "text/plain": [
       "  0%|          | 0/4 [00:00<?, ?it/s]"
      ]
     },
     "metadata": {},
     "output_type": "display_data"
    },
    {
     "name": "stdout",
     "output_type": "stream",
     "text": [
      "Finish compute distance: 44.11832046508789\n",
      "Begin compute distance between: 2 2\n"
     ]
    },
    {
     "data": {
      "application/vnd.jupyter.widget-view+json": {
       "model_id": "8905b89a03d14e848a2be6fa298025a2",
       "version_major": 2,
       "version_minor": 0
      },
      "text/plain": [
       "0it [00:00, ?it/s]"
      ]
     },
     "metadata": {},
     "output_type": "display_data"
    },
    {
     "data": {
      "application/vnd.jupyter.widget-view+json": {
       "model_id": "9177a7b3d0314c689b6820f08f656aa3",
       "version_major": 2,
       "version_minor": 0
      },
      "text/plain": [
       "  0%|          | 0/6 [00:00<?, ?it/s]"
      ]
     },
     "metadata": {},
     "output_type": "display_data"
    },
    {
     "data": {
      "application/vnd.jupyter.widget-view+json": {
       "model_id": "1ab670718ae0468d929e13205a9c662f",
       "version_major": 2,
       "version_minor": 0
      },
      "text/plain": [
       "0it [00:00, ?it/s]"
      ]
     },
     "metadata": {},
     "output_type": "display_data"
    },
    {
     "data": {
      "application/vnd.jupyter.widget-view+json": {
       "model_id": "adf6e5c431f74bb5aae7e67cdaa83231",
       "version_major": 2,
       "version_minor": 0
      },
      "text/plain": [
       "  0%|          | 0/6 [00:00<?, ?it/s]"
      ]
     },
     "metadata": {},
     "output_type": "display_data"
    },
    {
     "data": {
      "application/vnd.jupyter.widget-view+json": {
       "model_id": "40bca3c8d6b8482286aeeb9ef96e5cdb",
       "version_major": 2,
       "version_minor": 0
      },
      "text/plain": [
       "  0%|          | 0/16 [00:00<?, ?it/s]"
      ]
     },
     "metadata": {},
     "output_type": "display_data"
    },
    {
     "data": {
      "application/vnd.jupyter.widget-view+json": {
       "model_id": "021ac81265a748a795f4232b539b644a",
       "version_major": 2,
       "version_minor": 0
      },
      "text/plain": [
       "  0%|          | 0/4 [00:00<?, ?it/s]"
      ]
     },
     "metadata": {},
     "output_type": "display_data"
    },
    {
     "data": {
      "application/vnd.jupyter.widget-view+json": {
       "model_id": "846d18ac465949e39b0e178462c0bbe2",
       "version_major": 2,
       "version_minor": 0
      },
      "text/plain": [
       "  0%|          | 0/4 [00:00<?, ?it/s]"
      ]
     },
     "metadata": {},
     "output_type": "display_data"
    },
    {
     "name": "stdout",
     "output_type": "stream",
     "text": [
      "Finish compute distance: 15.412776947021484\n",
      "Begin compute distance between: 2 3\n"
     ]
    },
    {
     "data": {
      "application/vnd.jupyter.widget-view+json": {
       "model_id": "ffab609bd756470cb818e852f6fb4558",
       "version_major": 2,
       "version_minor": 0
      },
      "text/plain": [
       "0it [00:00, ?it/s]"
      ]
     },
     "metadata": {},
     "output_type": "display_data"
    },
    {
     "data": {
      "application/vnd.jupyter.widget-view+json": {
       "model_id": "ea05f704119646a0b4653f02c16726eb",
       "version_major": 2,
       "version_minor": 0
      },
      "text/plain": [
       "  0%|          | 0/6 [00:00<?, ?it/s]"
      ]
     },
     "metadata": {},
     "output_type": "display_data"
    },
    {
     "data": {
      "application/vnd.jupyter.widget-view+json": {
       "model_id": "31d84d4bea4c487ab29f93f03e446bc7",
       "version_major": 2,
       "version_minor": 0
      },
      "text/plain": [
       "0it [00:00, ?it/s]"
      ]
     },
     "metadata": {},
     "output_type": "display_data"
    },
    {
     "data": {
      "application/vnd.jupyter.widget-view+json": {
       "model_id": "977e4530efef46a1b154a994b5a3602b",
       "version_major": 2,
       "version_minor": 0
      },
      "text/plain": [
       "  0%|          | 0/6 [00:00<?, ?it/s]"
      ]
     },
     "metadata": {},
     "output_type": "display_data"
    },
    {
     "data": {
      "application/vnd.jupyter.widget-view+json": {
       "model_id": "e8bdd7c980614040bd945f9fbf9515ba",
       "version_major": 2,
       "version_minor": 0
      },
      "text/plain": [
       "  0%|          | 0/16 [00:00<?, ?it/s]"
      ]
     },
     "metadata": {},
     "output_type": "display_data"
    },
    {
     "data": {
      "application/vnd.jupyter.widget-view+json": {
       "model_id": "fb25c796bc80431eb798c68475459ee0",
       "version_major": 2,
       "version_minor": 0
      },
      "text/plain": [
       "  0%|          | 0/4 [00:00<?, ?it/s]"
      ]
     },
     "metadata": {},
     "output_type": "display_data"
    },
    {
     "data": {
      "application/vnd.jupyter.widget-view+json": {
       "model_id": "ebd2dce855c341ca97c40ecc661445fc",
       "version_major": 2,
       "version_minor": 0
      },
      "text/plain": [
       "  0%|          | 0/4 [00:00<?, ?it/s]"
      ]
     },
     "metadata": {},
     "output_type": "display_data"
    },
    {
     "name": "stdout",
     "output_type": "stream",
     "text": [
      "Finish compute distance: 9.708425521850586\n",
      "Begin compute distance between: 3 0\n"
     ]
    },
    {
     "data": {
      "application/vnd.jupyter.widget-view+json": {
       "model_id": "22b4d2a98bbf48edba37d9477f5ca261",
       "version_major": 2,
       "version_minor": 0
      },
      "text/plain": [
       "0it [00:00, ?it/s]"
      ]
     },
     "metadata": {},
     "output_type": "display_data"
    },
    {
     "data": {
      "application/vnd.jupyter.widget-view+json": {
       "model_id": "5699ad2bfbcf49b8a30dd816721a2afb",
       "version_major": 2,
       "version_minor": 0
      },
      "text/plain": [
       "  0%|          | 0/6 [00:00<?, ?it/s]"
      ]
     },
     "metadata": {},
     "output_type": "display_data"
    },
    {
     "data": {
      "application/vnd.jupyter.widget-view+json": {
       "model_id": "932183d3afd049aa8fa1d59f7c364997",
       "version_major": 2,
       "version_minor": 0
      },
      "text/plain": [
       "0it [00:00, ?it/s]"
      ]
     },
     "metadata": {},
     "output_type": "display_data"
    },
    {
     "data": {
      "application/vnd.jupyter.widget-view+json": {
       "model_id": "c4338bfb435842ad943b90dc52b41d69",
       "version_major": 2,
       "version_minor": 0
      },
      "text/plain": [
       "  0%|          | 0/6 [00:00<?, ?it/s]"
      ]
     },
     "metadata": {},
     "output_type": "display_data"
    },
    {
     "data": {
      "application/vnd.jupyter.widget-view+json": {
       "model_id": "16cee15bad3d4256adb9d106e09cd791",
       "version_major": 2,
       "version_minor": 0
      },
      "text/plain": [
       "  0%|          | 0/16 [00:00<?, ?it/s]"
      ]
     },
     "metadata": {},
     "output_type": "display_data"
    },
    {
     "data": {
      "application/vnd.jupyter.widget-view+json": {
       "model_id": "4e626d157ed040bcaf1630f649e950b3",
       "version_major": 2,
       "version_minor": 0
      },
      "text/plain": [
       "  0%|          | 0/4 [00:00<?, ?it/s]"
      ]
     },
     "metadata": {},
     "output_type": "display_data"
    },
    {
     "data": {
      "application/vnd.jupyter.widget-view+json": {
       "model_id": "3f9ff77dec3c4fbfbfba50c86e446f0c",
       "version_major": 2,
       "version_minor": 0
      },
      "text/plain": [
       "  0%|          | 0/4 [00:00<?, ?it/s]"
      ]
     },
     "metadata": {},
     "output_type": "display_data"
    },
    {
     "name": "stdout",
     "output_type": "stream",
     "text": [
      "Finish compute distance: 12.318611145019531\n",
      "Begin compute distance between: 3 1\n"
     ]
    },
    {
     "data": {
      "application/vnd.jupyter.widget-view+json": {
       "model_id": "94c455bac53f49568f9ee26dec99e525",
       "version_major": 2,
       "version_minor": 0
      },
      "text/plain": [
       "0it [00:00, ?it/s]"
      ]
     },
     "metadata": {},
     "output_type": "display_data"
    },
    {
     "data": {
      "application/vnd.jupyter.widget-view+json": {
       "model_id": "0897a39079f94bba8ffd3123da177570",
       "version_major": 2,
       "version_minor": 0
      },
      "text/plain": [
       "  0%|          | 0/6 [00:00<?, ?it/s]"
      ]
     },
     "metadata": {},
     "output_type": "display_data"
    },
    {
     "data": {
      "application/vnd.jupyter.widget-view+json": {
       "model_id": "1895b666fa90439e85fae4e565197bef",
       "version_major": 2,
       "version_minor": 0
      },
      "text/plain": [
       "0it [00:00, ?it/s]"
      ]
     },
     "metadata": {},
     "output_type": "display_data"
    },
    {
     "data": {
      "application/vnd.jupyter.widget-view+json": {
       "model_id": "24855199fc5143fa8fee4dfc45f75d47",
       "version_major": 2,
       "version_minor": 0
      },
      "text/plain": [
       "  0%|          | 0/6 [00:00<?, ?it/s]"
      ]
     },
     "metadata": {},
     "output_type": "display_data"
    },
    {
     "data": {
      "application/vnd.jupyter.widget-view+json": {
       "model_id": "4fb99c2edee041169a53a56e927e8ae5",
       "version_major": 2,
       "version_minor": 0
      },
      "text/plain": [
       "  0%|          | 0/16 [00:00<?, ?it/s]"
      ]
     },
     "metadata": {},
     "output_type": "display_data"
    },
    {
     "data": {
      "application/vnd.jupyter.widget-view+json": {
       "model_id": "5c32118efa0342f296cb5d3587934769",
       "version_major": 2,
       "version_minor": 0
      },
      "text/plain": [
       "  0%|          | 0/4 [00:00<?, ?it/s]"
      ]
     },
     "metadata": {},
     "output_type": "display_data"
    },
    {
     "data": {
      "application/vnd.jupyter.widget-view+json": {
       "model_id": "df39328b2d3240409c6388146ea33b5b",
       "version_major": 2,
       "version_minor": 0
      },
      "text/plain": [
       "  0%|          | 0/4 [00:00<?, ?it/s]"
      ]
     },
     "metadata": {},
     "output_type": "display_data"
    },
    {
     "name": "stdout",
     "output_type": "stream",
     "text": [
      "Finish compute distance: 28.51081085205078\n",
      "Begin compute distance between: 3 2\n"
     ]
    },
    {
     "data": {
      "application/vnd.jupyter.widget-view+json": {
       "model_id": "5b2b409d318748cbbce52eefb19746b9",
       "version_major": 2,
       "version_minor": 0
      },
      "text/plain": [
       "0it [00:00, ?it/s]"
      ]
     },
     "metadata": {},
     "output_type": "display_data"
    },
    {
     "data": {
      "application/vnd.jupyter.widget-view+json": {
       "model_id": "705c1c77e8614a8cbfbccd9bb20a541e",
       "version_major": 2,
       "version_minor": 0
      },
      "text/plain": [
       "  0%|          | 0/6 [00:00<?, ?it/s]"
      ]
     },
     "metadata": {},
     "output_type": "display_data"
    },
    {
     "data": {
      "application/vnd.jupyter.widget-view+json": {
       "model_id": "bf00a4cf3cfb4ac1bd88ddee4794f468",
       "version_major": 2,
       "version_minor": 0
      },
      "text/plain": [
       "0it [00:00, ?it/s]"
      ]
     },
     "metadata": {},
     "output_type": "display_data"
    },
    {
     "data": {
      "application/vnd.jupyter.widget-view+json": {
       "model_id": "f35233d512794729b2149e31a8318fb4",
       "version_major": 2,
       "version_minor": 0
      },
      "text/plain": [
       "  0%|          | 0/6 [00:00<?, ?it/s]"
      ]
     },
     "metadata": {},
     "output_type": "display_data"
    },
    {
     "data": {
      "application/vnd.jupyter.widget-view+json": {
       "model_id": "7c1468a5f7bd4b2c920e1a409c0ff818",
       "version_major": 2,
       "version_minor": 0
      },
      "text/plain": [
       "  0%|          | 0/16 [00:00<?, ?it/s]"
      ]
     },
     "metadata": {},
     "output_type": "display_data"
    },
    {
     "data": {
      "application/vnd.jupyter.widget-view+json": {
       "model_id": "2679ec478ffd456ca91a765bc9434f2b",
       "version_major": 2,
       "version_minor": 0
      },
      "text/plain": [
       "  0%|          | 0/4 [00:00<?, ?it/s]"
      ]
     },
     "metadata": {},
     "output_type": "display_data"
    },
    {
     "data": {
      "application/vnd.jupyter.widget-view+json": {
       "model_id": "d260e24b2058424684dd67a8bbf05bac",
       "version_major": 2,
       "version_minor": 0
      },
      "text/plain": [
       "  0%|          | 0/4 [00:00<?, ?it/s]"
      ]
     },
     "metadata": {},
     "output_type": "display_data"
    },
    {
     "name": "stdout",
     "output_type": "stream",
     "text": [
      "Finish compute distance: 86.71339416503906\n",
      "Begin compute distance between: 3 3\n"
     ]
    },
    {
     "data": {
      "application/vnd.jupyter.widget-view+json": {
       "model_id": "1a7405c8a30342c49a8d4a2ca5f9399c",
       "version_major": 2,
       "version_minor": 0
      },
      "text/plain": [
       "0it [00:00, ?it/s]"
      ]
     },
     "metadata": {},
     "output_type": "display_data"
    },
    {
     "data": {
      "application/vnd.jupyter.widget-view+json": {
       "model_id": "27f66e40de6d40db8cd364aad442b7da",
       "version_major": 2,
       "version_minor": 0
      },
      "text/plain": [
       "  0%|          | 0/6 [00:00<?, ?it/s]"
      ]
     },
     "metadata": {},
     "output_type": "display_data"
    },
    {
     "data": {
      "application/vnd.jupyter.widget-view+json": {
       "model_id": "2519a826ce2e41f6979c6f3edf425227",
       "version_major": 2,
       "version_minor": 0
      },
      "text/plain": [
       "0it [00:00, ?it/s]"
      ]
     },
     "metadata": {},
     "output_type": "display_data"
    },
    {
     "data": {
      "application/vnd.jupyter.widget-view+json": {
       "model_id": "1b02d0d224194a79aa1123d3b52a5faa",
       "version_major": 2,
       "version_minor": 0
      },
      "text/plain": [
       "  0%|          | 0/6 [00:00<?, ?it/s]"
      ]
     },
     "metadata": {},
     "output_type": "display_data"
    },
    {
     "data": {
      "application/vnd.jupyter.widget-view+json": {
       "model_id": "e723f600f1094143a414860492aceafa",
       "version_major": 2,
       "version_minor": 0
      },
      "text/plain": [
       "  0%|          | 0/16 [00:00<?, ?it/s]"
      ]
     },
     "metadata": {},
     "output_type": "display_data"
    },
    {
     "data": {
      "application/vnd.jupyter.widget-view+json": {
       "model_id": "998324dcae6e46ed80547917dad53a67",
       "version_major": 2,
       "version_minor": 0
      },
      "text/plain": [
       "  0%|          | 0/4 [00:00<?, ?it/s]"
      ]
     },
     "metadata": {},
     "output_type": "display_data"
    },
    {
     "data": {
      "application/vnd.jupyter.widget-view+json": {
       "model_id": "a007eb57a2f44059b43ac90ad258fabf",
       "version_major": 2,
       "version_minor": 0
      },
      "text/plain": [
       "  0%|          | 0/4 [00:00<?, ?it/s]"
      ]
     },
     "metadata": {},
     "output_type": "display_data"
    },
    {
     "name": "stdout",
     "output_type": "stream",
     "text": [
      "Finish compute distance: 17.450740814208984\n",
      "Begin to saving\n"
     ]
    }
   ],
   "source": [
    "mapping_dict = dict(zip(range(len(topic_DS)), list(topic_DS.keys())))\n",
    "m_matrix = np.zeros([len(topic_DS.keys()), len(topic_DS.keys())])\n",
    "for i in range(len(topic_DS.keys())):\n",
    "    for j in range(len(topic_DS.keys())):\n",
    "        print(\"Begin compute distance between:\", i, j)\n",
    "        D_i = topic_DS[mapping_dict[i]]\n",
    "        D_j = topic_DS[mapping_dict[j]]\n",
    "        dist = DatasetDistance(D_i, D_j,\n",
    "                                   inner_ot_method = 'gaussian_approx',#gaussian_approx\n",
    "                                   debiased_loss = True,\n",
    "                                   p = 2, entreg = 1e-1,\n",
    "                                   min_labelcount=1,\n",
    "                                   device='cpu') ## error device!!\n",
    "        \n",
    "        d = dist.distance(maxsamples = 1000)\n",
    "        m_matrix[i,j]  = d.item()\n",
    "        print(\"Finish compute distance:\", m_matrix[i,j])\n",
    "print(\"Begin to saving\")\n",
    "\n",
    "pd.to_pickle(m_matrix, \"data/result/rs_glove_TOPIC_OTDD.pkl\")"
   ]
  },
  {
   "cell_type": "code",
   "execution_count": 23,
   "id": "8313b98d-d874-4277-840d-0ba47cfc8098",
   "metadata": {},
   "outputs": [
    {
     "name": "stdout",
     "output_type": "stream",
     "text": [
      "00_preprocessing.ipynb\tdata\t\t\t   preprocessing  sysconf.py\n",
      "01_OTDD_glove.ipynb\tDD_conv_distance_topic.py  __pycache__\n",
      "base_method.ipynb\tmy_DD_ds.pickle\t\t   README.md\n"
     ]
    }
   ],
   "source": [
    "!ls"
   ]
  },
  {
   "cell_type": "code",
   "execution_count": 183,
   "id": "c3bb73a9-5a69-475a-af6f-b095f1a2f0f3",
   "metadata": {},
   "outputs": [
    {
     "data": {
      "text/html": [
       "<div>\n",
       "<style scoped>\n",
       "    .dataframe tbody tr th:only-of-type {\n",
       "        vertical-align: middle;\n",
       "    }\n",
       "\n",
       "    .dataframe tbody tr th {\n",
       "        vertical-align: top;\n",
       "    }\n",
       "\n",
       "    .dataframe thead th {\n",
       "        text-align: right;\n",
       "    }\n",
       "</style>\n",
       "<table border=\"1\" class=\"dataframe\">\n",
       "  <thead>\n",
       "    <tr style=\"text-align: right;\">\n",
       "      <th></th>\n",
       "      <th>0</th>\n",
       "      <th>1</th>\n",
       "      <th>2</th>\n",
       "      <th>3</th>\n",
       "    </tr>\n",
       "  </thead>\n",
       "  <tbody>\n",
       "    <tr>\n",
       "      <th>0</th>\n",
       "      <td>25.176716</td>\n",
       "      <td>43.170212</td>\n",
       "      <td>53.225464</td>\n",
       "      <td>34.184540</td>\n",
       "    </tr>\n",
       "    <tr>\n",
       "      <th>1</th>\n",
       "      <td>73.965477</td>\n",
       "      <td>20.022312</td>\n",
       "      <td>18.220119</td>\n",
       "      <td>23.618389</td>\n",
       "    </tr>\n",
       "    <tr>\n",
       "      <th>2</th>\n",
       "      <td>13.759900</td>\n",
       "      <td>44.118320</td>\n",
       "      <td>15.412777</td>\n",
       "      <td>9.708426</td>\n",
       "    </tr>\n",
       "    <tr>\n",
       "      <th>3</th>\n",
       "      <td>12.318611</td>\n",
       "      <td>28.510811</td>\n",
       "      <td>86.713394</td>\n",
       "      <td>17.450741</td>\n",
       "    </tr>\n",
       "  </tbody>\n",
       "</table>\n",
       "</div>"
      ],
      "text/plain": [
       "           0          1          2          3\n",
       "0  25.176716  43.170212  53.225464  34.184540\n",
       "1  73.965477  20.022312  18.220119  23.618389\n",
       "2  13.759900  44.118320  15.412777   9.708426\n",
       "3  12.318611  28.510811  86.713394  17.450741"
      ]
     },
     "execution_count": 183,
     "metadata": {},
     "output_type": "execute_result"
    }
   ],
   "source": [
    "pd.DataFrame(m_matrix)"
   ]
  },
  {
   "cell_type": "code",
   "execution_count": 11,
   "id": "5276f14b-ce46-4e78-bf52-2a7f2ba3da42",
   "metadata": {},
   "outputs": [],
   "source": [
    "################## --- using distance to predict the topics!!!\n",
    "rs = pd.read_pickle(\"data/Glove_embedding_Daily_topic.pkl\")\n",
    "DD_DS = {}\n",
    "for i in range(len(rs['data'])):\n",
    "    idata = rs['data'][i]\n",
    "    ilabel = rs['emotion'][i]\n",
    "    DD_DS[i] = my_DataSet((idata, ilabel))\n",
    "pd.to_pickle(DD_DS, \"my_DD_ds.pickle\")"
   ]
  },
  {
   "cell_type": "code",
   "execution_count": 2,
   "id": "940b2b47-7e31-46d8-bab8-7e35dc9f851b",
   "metadata": {
    "tags": []
   },
   "outputs": [
    {
     "ename": "NameError",
     "evalue": "name 'np' is not defined",
     "output_type": "error",
     "traceback": [
      "\u001b[0;31m---------------------------------------------------------------------------\u001b[0m",
      "\u001b[0;31mNameError\u001b[0m                                 Traceback (most recent call last)",
      "Cell \u001b[0;32mIn[2], line 1\u001b[0m\n\u001b[0;32m----> 1\u001b[0m m_matrix \u001b[38;5;241m=\u001b[39m \u001b[43mnp\u001b[49m\u001b[38;5;241m.\u001b[39mzeros([\u001b[38;5;28mlen\u001b[39m(DD_DS\u001b[38;5;241m.\u001b[39mkeys()), \u001b[38;5;28mlen\u001b[39m(DD_DS\u001b[38;5;241m.\u001b[39mkeys())])\n\u001b[1;32m      3\u001b[0m \u001b[38;5;28;01mfor\u001b[39;00m i \u001b[38;5;129;01min\u001b[39;00m \u001b[38;5;28mrange\u001b[39m(\u001b[38;5;28mlen\u001b[39m(DD_DS\u001b[38;5;241m.\u001b[39mkeys())):\n\u001b[1;32m      4\u001b[0m     \u001b[38;5;28;01mfor\u001b[39;00m j \u001b[38;5;129;01min\u001b[39;00m \u001b[38;5;28mrange\u001b[39m(\u001b[38;5;28mlen\u001b[39m(DD_DS\u001b[38;5;241m.\u001b[39mkeys())):\n",
      "\u001b[0;31mNameError\u001b[0m: name 'np' is not defined"
     ]
    }
   ],
   "source": [
    "m_matrix = np.zeros([len(DD_DS.keys()), len(DD_DS.keys())])\n",
    "\n",
    "for i in range(len(DD_DS.keys())):\n",
    "    for j in range(len(DD_DS.keys())):\n",
    "        print(\"Begin compute distance between:\", i, j)\n",
    "        D_i = DD_DS[i]\n",
    "        D_j = DD_DS[j]\n",
    "        dist = DatasetDistance(D_i, D_j,\n",
    "                                   inner_ot_method = 'gaussian_approx',#gaussian_approx\n",
    "                                   debiased_loss = True,\n",
    "                                   p = 2, entreg = 1e-1,\n",
    "                                   min_labelcount=1,\n",
    "                                   device='cpu') ## error device!!\n",
    "        try:\n",
    "            d = dist.distance()\n",
    "            m_matrix[i,j]  = d.item()\n",
    "        except:\n",
    "            continue\n",
    "        print(\"Finish compute distance:\", m_matrix[i,j])\n",
    "print(\"Begin to saving\")\n",
    "\n",
    "pd.to_pickle(m_matrix, \"data/result/rs_glove_DISTANCE_topic_conv.pkl\")"
   ]
  },
  {
   "cell_type": "code",
   "execution_count": 24,
   "id": "f8f94bcd-31e4-40cb-ab81-b7cd12730749",
   "metadata": {},
   "outputs": [
    {
     "data": {
      "text/plain": [
       "13117"
      ]
     },
     "execution_count": 24,
     "metadata": {},
     "output_type": "execute_result"
    }
   ],
   "source": [
    "len(DD_DS)"
   ]
  },
  {
   "cell_type": "code",
   "execution_count": null,
   "id": "768ff5e0-83b7-4553-966e-7d7042a17e15",
   "metadata": {},
   "outputs": [],
   "source": []
  },
  {
   "cell_type": "code",
   "execution_count": null,
   "id": "ad234753-fa97-4c57-95f0-343d9b062ff5",
   "metadata": {},
   "outputs": [],
   "source": []
  }
 ],
 "metadata": {
  "kernelspec": {
   "display_name": "NLP_PIP_INSTALL",
   "language": "python",
   "name": "nlp_pip_install"
  },
  "language_info": {
   "codemirror_mode": {
    "name": "ipython",
    "version": 3
   },
   "file_extension": ".py",
   "mimetype": "text/x-python",
   "name": "python",
   "nbconvert_exporter": "python",
   "pygments_lexer": "ipython3",
   "version": "3.8.10"
  }
 },
 "nbformat": 4,
 "nbformat_minor": 5
}
