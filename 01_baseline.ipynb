{
 "cells": [
  {
   "cell_type": "code",
   "execution_count": 1,
   "id": "01f50a3a-65e1-4510-8e2d-584d12dfb0fd",
   "metadata": {},
   "outputs": [
    {
     "name": "stderr",
     "output_type": "stream",
     "text": [
      "/home/n/nguyenpk/CS6220/otdd/otdd/pytorch/distance.py:23: TqdmExperimentalWarning: Using `tqdm.autonotebook.tqdm` in notebook mode. Use `tqdm.tqdm` instead to force console mode (e.g. in jupyter console)\n",
      "  from tqdm.autonotebook import tqdm\n",
      "2023-04-16 01:02:52.318209: I tensorflow/core/platform/cpu_feature_guard.cc:193] This TensorFlow binary is optimized with oneAPI Deep Neural Network Library (oneDNN) to use the following CPU instructions in performance-critical operations:  SSE4.1 SSE4.2 AVX AVX2 AVX512F AVX512_VNNI FMA\n",
      "To enable them in other operations, rebuild TensorFlow with the appropriate compiler flags.\n",
      "ot.gpu not found - coupling computation will be in cpu\n"
     ]
    }
   ],
   "source": [
    "###### check two data set\n",
    "import os, sys\n",
    "sys.path.append(\"/home/n/nguyenpk/CS6220/otdd\")\n",
    "import otdd\n",
    "from otdd.pytorch.distance import DatasetDistance"
   ]
  },
  {
   "cell_type": "code",
   "execution_count": 6,
   "id": "256c0bc0-981e-4a88-bb8b-fe69160c7d86",
   "metadata": {},
   "outputs": [
    {
     "name": "stdout",
     "output_type": "stream",
     "text": [
      "Daily_Dailog_raw.pkl\t\t       IEMOCAP_embedd.pkl\n",
      "Daily_embedd.pkl\t\t       IEMOCAP_raw.pkl\n",
      "Daily_token_fts.pkl\t\t       IEMOCAP_token_fts.pkl\n",
      "Diaglog_raw.pkl\t\t\t       MELD_embedd.pkl\n",
      "Glove_embedding_Daily_token_fts.pkl    MELD_raw.pkl\n",
      "Glove_embedding_IEMOCAP_token_fts.pkl  MELD_token_fts.pkl\n",
      "Glove_embedding_MELD_token_fts.pkl     preprocessing\n"
     ]
    }
   ],
   "source": [
    "!ls data"
   ]
  },
  {
   "cell_type": "code",
   "execution_count": 7,
   "id": "55191713-7ac9-4873-8007-1c1d4c42ed3c",
   "metadata": {},
   "outputs": [],
   "source": [
    "Dataset = {}\n",
    "for i in [\"IEMOCAP\", \"Daily\", \"MELD\"]:\n",
    "    Dataset[i] = pd.read_pickle(\"data/Glove_embedding_{}_token_fts.pkl\".format(i))\n",
    "#####\n"
   ]
  },
  {
   "cell_type": "code",
   "execution_count": 8,
   "id": "53ea717c-d951-4460-a234-7729079e0fe1",
   "metadata": {},
   "outputs": [],
   "source": [
    "i = \"Daily\"\n",
    "idata = Dataset[i]"
   ]
  },
  {
   "cell_type": "code",
   "execution_count": 16,
   "id": "0be34449-3ec9-44a8-b4e0-abaea7053bde",
   "metadata": {},
   "outputs": [
    {
     "data": {
      "text/plain": [
       "[]"
      ]
     },
     "execution_count": 16,
     "metadata": {},
     "output_type": "execute_result"
    }
   ],
   "source": [
    "idata[\"train\"][\"topics\"]"
   ]
  },
  {
   "cell_type": "code",
   "execution_count": null,
   "id": "ce8986ed-4a02-44bc-8dfd-4e2af65247e1",
   "metadata": {},
   "outputs": [],
   "source": []
  },
  {
   "cell_type": "code",
   "execution_count": 2,
   "id": "1e2f20a8-3fd5-4ddf-81f8-2e31b78ec8cf",
   "metadata": {},
   "outputs": [],
   "source": [
    "import math\n",
    "import random\n",
    "from torch.utils.data import Dataset\n",
    "from torch.utils.data import DataLoader\n",
    "\n",
    "from torch.nn.utils.rnn import pad_sequence\n",
    "import pickle, pandas as pd\n",
    "from sklearn.preprocessing import LabelEncoder\n",
    "from sklearn import preprocessing\n",
    "import torch.nn as nn\n",
    "\n",
    "import torch\n",
    "import numpy as np\n",
    "\n",
    "\n",
    "seed = 100\n",
    "if torch.cuda.is_available():\n",
    "    generator = torch.Generator('cuda').manual_seed(seed)\n",
    "else:\n",
    "    generator = torch.Generator().manual_seed(seed)\n",
    "\n",
    "\n",
    "class my_DataSet(Dataset):\n",
    "    \"\"\"\n",
    "    \"\"\"\n",
    "    def __init__(self, path , split, pretrain_emb=None):\n",
    "        data = pd.read_pickle(path)[split]\n",
    "        Xdata = torch.tensor(np.concatenate(data[\"data_token\"]), dtype=torch.int)\n",
    "        self.data = pretrain_emb(Xdata).sum(axis=1)\n",
    "        # self.clf = preprocessing.LabelEncoder()\n",
    "        y = np.concatenate(data[\"emotions\"])\n",
    "        # self.targets = torch.tensor(self.clf.fit_transform(y), dtype=torch.int)\n",
    "        # self.data = Xdata\n",
    "        self.targets= torch.tensor(y, dtype=torch.int)\n",
    "        self.len = len(self.targets)\n",
    "    def __getitem__(self, index):\n",
    "        return self.data[index], self.targets[index]\n",
    "    def __len__(self):\n",
    "        return self.len\n",
    "    def __delitem__(self, key):\n",
    "        self.data = np.delete(self.data, key, axis=0)\n",
    "        self.targets = np.delete(self.targets, key, axis=0)\n",
    "        "
   ]
  },
  {
   "cell_type": "code",
   "execution_count": 26,
   "id": "67dee854-bb4a-425d-9413-836dd779412b",
   "metadata": {},
   "outputs": [],
   "source": [
    "import os\n",
    "os.environ['CUDA_PATH'] = '/usr/local/cuda-11'"
   ]
  },
  {
   "cell_type": "code",
   "execution_count": 29,
   "id": "43ed3662-c49c-426e-a321-68837ba02e0b",
   "metadata": {},
   "outputs": [
    {
     "data": {
      "application/vnd.jupyter.widget-view+json": {
       "model_id": "",
       "version_major": 2,
       "version_minor": 0
      },
      "text/plain": [
       "0it [00:00, ?it/s]"
      ]
     },
     "metadata": {},
     "output_type": "display_data"
    },
    {
     "data": {
      "application/vnd.jupyter.widget-view+json": {
       "model_id": "",
       "version_major": 2,
       "version_minor": 0
      },
      "text/plain": [
       "  0%|          | 0/21 [00:00<?, ?it/s]"
      ]
     },
     "metadata": {},
     "output_type": "display_data"
    },
    {
     "data": {
      "application/vnd.jupyter.widget-view+json": {
       "model_id": "",
       "version_major": 2,
       "version_minor": 0
      },
      "text/plain": [
       "0it [00:00, ?it/s]"
      ]
     },
     "metadata": {},
     "output_type": "display_data"
    },
    {
     "data": {
      "application/vnd.jupyter.widget-view+json": {
       "model_id": "",
       "version_major": 2,
       "version_minor": 0
      },
      "text/plain": [
       "  0%|          | 0/21 [00:00<?, ?it/s]"
      ]
     },
     "metadata": {},
     "output_type": "display_data"
    },
    {
     "data": {
      "application/vnd.jupyter.widget-view+json": {
       "model_id": "",
       "version_major": 2,
       "version_minor": 0
      },
      "text/plain": [
       "  0%|          | 0/49 [00:00<?, ?it/s]"
      ]
     },
     "metadata": {},
     "output_type": "display_data"
    },
    {
     "data": {
      "application/vnd.jupyter.widget-view+json": {
       "model_id": "",
       "version_major": 2,
       "version_minor": 0
      },
      "text/plain": [
       "  0%|          | 0/40 [00:00<?, ?it/s]"
      ]
     },
     "metadata": {},
     "output_type": "display_data"
    },
    {
     "data": {
      "application/vnd.jupyter.widget-view+json": {
       "model_id": "",
       "version_major": 2,
       "version_minor": 0
      },
      "text/plain": [
       "  0%|          | 0/31 [00:00<?, ?it/s]"
      ]
     },
     "metadata": {},
     "output_type": "display_data"
    }
   ],
   "source": [
    "dist1 = DatasetDistance(train, test,\n",
    "                           inner_ot_method = 'gaussian_approx',\n",
    "                           debiased_loss = True,\n",
    "                           p = 2, entreg = 1e-1,\n",
    "                           min_labelcount=1,\n",
    "                           device='cuda:0')\n",
    "d = dist1.distance()\n",
    "d = dist1.distance(maxsamples = 100)"
   ]
  }
 ],
 "metadata": {
  "kernelspec": {
   "display_name": "OTDD TF",
   "language": "python",
   "name": "otdd_tf"
  },
  "language_info": {
   "codemirror_mode": {
    "name": "ipython",
    "version": 3
   },
   "file_extension": ".py",
   "mimetype": "text/x-python",
   "name": "python",
   "nbconvert_exporter": "python",
   "pygments_lexer": "ipython3",
   "version": "3.8.16"
  }
 },
 "nbformat": 4,
 "nbformat_minor": 5
}
